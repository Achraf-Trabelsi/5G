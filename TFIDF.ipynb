{
  "cells": [
    {
      "cell_type": "markdown",
      "metadata": {
        "id": "view-in-github",
        "colab_type": "text"
      },
      "source": [
        "<a href=\"https://colab.research.google.com/github/Achraf-Trabelsi/5G/blob/main/TFIDF.ipynb\" target=\"_parent\"><img src=\"https://colab.research.google.com/assets/colab-badge.svg\" alt=\"Open In Colab\"/></a>"
      ]
    },
    {
      "cell_type": "markdown",
      "source": [
        "**TF-IDF vectorization involves calculating the TF-IDF score for every word in your corpus relative to that document and then putting that information into a vector**\n"
      ],
      "metadata": {
        "id": "X59GXDDcAFpE"
      }
    },
    {
      "cell_type": "markdown",
      "source": [
        "\n",
        "![051011-tfidf.png](data:image/png;base64,iVBORw0KGgoAAAANSUhEUgAAAT8AAADICAIAAAARJHHpAAAACXBIWXMAAAsTAAALEwEAmpwYAAAgAElEQVR4nOydd1hUR/v3z9nOdnpdei8iRRRQUcGWEI0laIzGJD81dmNi1FiiRo1E0bQnitEgKjE2jGJB7AWiIEV6Z4GlL7DL9nbOvn/Mm724KCtNlOc5nz+4lrNz5syZne+Ue2bugVEUhTAwMEYguDedAAwMjAGCqRcDY6SCqRcDY6SCqRcDY6SCqRcDY6SCqRcDY6SCqRcDY6SCqRcDY6SCqRcDY6SCqRcDY6SCqRcDY6SCqRcDY6SCqRcDY6RCeNMJwMB4e1GpVCKRCOzDg2FYq9VSqVQajQbDcPfAUqlUJpNptVrwLfhAJpMZDEaP4QcPpl4MjF4pKCjYunWrRqOB/lXvO++8s3r1aiqV2iUkiqKJiYnx8fFd1BseHr5hwwY6nf46koepFwOjVwwNDceOHcvj8VJSUpqbmyEIEggECxcu7K5eHA5nZ2fn7+9fUVFx69YtGIanTJni5ubm6upKILwulcHY7nwMDP2IRKIFCxakpKSAf//4449PP/20t8DFxcVhYWFWVla3b9+2sLB4rQnDrFYYGK+gpaVFKBTq/o2NjVUqlfoD+/j4vKbecmcw9WJgvAIej8fn842MjMaMGQNBUHFxcWJiolar7TFwbm6uRqPx9PQkk8mvO2GYejEwXgFQb0RExKJFiygUilQq/fPPP1taWnoMnJ2dTSKRnJycXt9wVwemXgwMfajV6pqaGqlUGhAQEB4e7u3trdVqs7OzU1NTe2x+8/PzLSwsLCwsXtMsUWcw9WJg6EMsFldWVqIoGhgY6O7uPnPmTDKZ3NLSkpSUJBAIugQWCARVVVVWVlampqbDkDZMvRgY+hCJROXl5QYGBu7u7gQC4ZNPPrG1tdVqtVeuXMnLy+sSOC8vT6lU2trampubD0PaMPViYOhDIpFUVVV5eHiAOV4HB4dZs2ZBECSVSk+cONElcFFREQzDHA6HxWINQ9ow9WJg6KOurq61tdXNzY1IJIIr//d//8dkMiEISklJyc/P7xw4NzeXTCY7OTnh8fhhSBumXgwMfbx48QJBkMDAQBKJBK7Y29uvWLECh8MJhcKffvpJoVCA6yKRqKysjEqluri4DE/aMPViYOgjPz/fwMDA2dlZNwNEoVAiIyM5HA6KomlpaVlZWeB6XV2dQCCg0+mYejEw3gry8/PNzc2NjY07Xxw9enRYWBgMw9XV1SkpKaD55fF4AoHA2NjYyspqeNKGqRcDo1f4fH51dbWDg0OXFctMJnPJkiWWlpYqlerSpUslJSUQBFVUVPD5fF9f32FYpwHA1IuB0Ss5OTkoitrY2HRpeyEImjBhQlBQEARBpaWlSUlJSqWytrZWLpf7+/sPW/Iw9WJg9EphYSEej7e1tWUwGF2+IpFI69atA59///33urq6mpoaCIK8vb2HLXnY/t7hQCaTCYVCtVpNJBLZbHb33aEjGplMJpFIWltbFQqFg4ODoaHhm07RkPHy5Usajebq6orD9dDOBQUFTZs27c6dOw0NDT/99FNpaSmNRvPw8Bi25GHqfe0UFhaeOnUqOTm5sbHRwsLiww8/XLFixfCsxXndNDc3Z2ZmPnz4MD09PTc3l06nnzt3btKkSW86XUODSCTicrl0Ot3JyanHAFQqddmyZenp6R0dHfHx8TAMe3t76yaWhgFMva8RMKOwe/dutVptZmZWWloqFApjYmKcnJwWLlzYY3U+snj+/Pm3335bW1urUCiUSuUw7GgdTqqrqwUCAZPJdHZ27jEADMPjxo0LDQ29deuWVCqFIMjLy2t41mkARnwBepspKSnZsWNHeXn56dOnT548uWTJEgMDA52LszeduiFg8uTJV69evX///rvvvvum06KPhoaGFStW9OsWrVZbWVnZ3t5uZWVlYmLSWzArK6tZs2ax2Wzwr4+Pz4DVu2jRIpFI1K9bsLb3daHRaA4dOvTPP/9ER0fb29vDMHzs2DF3d3cymTxjxoz/DvUymUwmk2loaDg8y3oHRm5ublRU1JIlS/oYXiwW5+Xl8fn8ixcvtra2CgSCmzdv0un0sWPH9ujOatasWX/++efTp0/JZLKnp+eA1UsikVatWvXnn3/2/RZMvYNFo9EgCEIikboIMi8v7+LFi7a2tpMmTQJfUSiULVu2vKFkvkZ68zLxlhAXFzdv3rwdO3b0MXxlZeWGDRuKi4vlcjkEQRkZGVFRUWw2+9mzZ/b29t3DW1hYLFq06OnTp1ZWVrpGeADs3bt32rRpaWlpoaGhfbwFU++gqKmpWbdunbe3944dOzpXzFqtNi4uTi6XBwQE2NjYvMEUdqe+vv7kyZPr16/vu3FYoVBcv36dyWRGRET02La8nQLWarW3b9/mcDirV6/u+10uLi6nTp3q7rnK0tKyt1sWLVoUEBBgYGDg6Og4wLRCkLm5+eLFixcvXnz37t3eRtpdwMa9g+LMmTM3btwgk8ldltfU1tY+ePCAQCD4+fkNz0btvnP69OkjR46sWbOGy+X2RXVyufz48ePLly8/efJkZ+dsOmAYfjsHAs3Nze+++y6ZTO7XFB2NRvPx8Qnshh4/VQwGIzAw0MvLy8DAYMCpJZFIISEhCII8ffq0j7dg6h04TU1N8fHxBALB2dlZt30M8OLFi7a2NiMjIxcXl7fNtrxq1apFixbduHFj9+7djY2N+gNLpdIzZ87s27cvKCjom2++MTIy6h6mjw0viqJyuRxBkD6mE0VRpVI5SI/FXl5eY8eOHUwMw8nkyZPfe++9r776qo/h+9pzrquru3///suXL4ODg6Oiovp4F6i2W1tb58yZ4+fn97aV48HQ3Nx85MgRHo9naGhoZmbWpfEpKCgQCoVOTk49jpTeLIaGhjt37pTJZImJiTgc7ujRo721GEqlMiEhYc+ePXZ2dkeOHPH09OytjdUjYJVKlZWVdfXq1by8PJlMhsfjPT09IyMjJ0yYQKPRuodvbW29cOHCP//809jYiKKooaFhSEjI/PnzHRwc+vumGzZs8PT0BOsZRwobNmy4d+/e9u3b9+/f/+rQ6Ku4fv365MmTCQQCDoeDYXjhwoVdAiiVytjYWGdn5+nTp3f56tixY2QyGYZhHx+f1tbWVz5rpLB06VJLS0tdZcRkMk3/xdraevr06WBIaWZmtmTJknXr1q1evXrt2rUnT54EjcnbQFtb2/r16xkMxocfflhdXY0gSJcAMpksJiaGTqeHhYVxuVw9UbW3twPv5BYWFg8ePNBd12g0eXl5ERERBALB1NR07Nix7777bmhoqLW1NZFIDAgIuHv3rkKh0IWXSCRnzpwxMTFhMpmBgYFffPHFkiVLvLy8CAQCjUazt7d3/ZfAwEC5XP7Kd/Tw8Pjmm2/6ly9vAT4+PpGRkX0J+eq2l0KhhISEmJubp6SkCAQCiUTSJUBbW9vx48crKiq6TxuA+lKr1dbW1oLDYN4UfD4fgiAYhlEUxeFwWq1Wq9X25QORSOxi3QHtTFhY2L1794DXhYiICAqFAkFQdXV1dnZ2aWkpMFdqtVqw+wRgYGCAIEiXPvabwtDQcMeOHWq1+syZM2Qyed++fZ33tUml0rNnz+7du3fcuHE//PCDra2tnqhARnW/np6evnbt2pycHE9Pz40bNy5cuJBGo2k0muTk5MOHD6elpX322WcxMTHvv/8+kUhUq9UXLlzYvHmzQqH47LPPvvnmG7Ctp6CgYMWKFc+fP5dKpWPGjLGzs0MQhMlkvnIfz+3bt/F4fJ9asBHLq9UbHh4eHh6el5dXUlIiEAi6+9F78uQJ8A/S0dHR5StnZ2fQQHE4nGHbNtUdgUDwySefgE2YXQ6J0n0A5a/7B3d396NHj3aODYbhn3/+OTs7Oysrq7W1deLEiUeOHAGabGlpqaysrKio2LNnT3V19ezZszds2KC7kclkDucyuldiYmKyc+dOqVR66dIlBEFiY2NBF1omk506dWr//v0eHh4xMTHe3t4DMEpxudzo6Oi8vDxLS8utW7dGRUWBdycQCO+++y6TyVyzZk1xcfGBAwfs7e3HjBlTWVl58uTJtrY2Pz+/tWvX6nbkeXt7b9269YMPPlCr1W5ubocPH0ZRlEAgvHJaFczW9j9X3jz79+9fsWLF33//PWfOHP0h+6ooGo0GtlkolUqlUqmzv8lksv/85z/gs1gs7nKXvb09g8FQqVSzZs3qcZAzPCAI0tLSIpPJBnBvjwuSmUxmfX19W1sblUrt7PHIzMzMzMxMLpdLJBIcDjd27FgvL69BJf01Y2FhcfDgQQaDcfbsWRwOd+DAATabHRsbu2/fPg8Pjz///NPOzu6V0u1uc1ar1deuXUtOTtZqtREREfPnz+9cbeFwuPHjxy9ZsmTPnj15eXknTpxwdXUtKirKzs7G4XCBgYFd5kt8fX09PDzy8vKePHkC9fKLdEEoFPZoHh8RjB8/vqmpqby8/JUh+6peEokE5KfRaORyuU69f//9d0VFRWBg4PPnz8Fi186GdYVCQSAQHBwcgOG+/y8yNJiYmLx48WIII0QQpLq6uqOjw9jYuEtR02q1oIcCw/AADC3Dj5mZ2a5du2AYjouLg2HY0dExOjp6/Pjxhw4d6ot0oZ56zmKxODExUaPRUCiUWbNmgWFFZ/B4/KxZs2JiYhQKxbVr19avX9/Q0KBUKvF4vJWVVZeHUigUoFi5XM7j8foyA3flypWrV6/2d3XkiKOvRmBwiDAEQQiCgEEdBEF8Pv/KlSujR4+eNm0aBEEoira1tXW+68GDByKRaObMmT4+PkOa7DeMWCwGlp7uTowQBOHxeGq1GofDvYUG5x4xMTH59ttv582bd/ny5f379wcFBUVHR3t5eQ14FlcgEOTk5EAQRCAQAgMDewzj7OxsZmYGQRCfzy8oKAADK61Wq3PypgNBENBvgmG4X+OvTZs2DSz9bwMXLlx4ZfPbj7YX7CBRq9VgOwWKovfu3Xv+/Plff/1VWloKQZBWq+3o6NAZP9rb23/77Tc7O7vly5f/l+0+6ejoqKyshCCIxWJ1aWA1Gk1FRQUEQUQi0c7O7s2kr//QaDR3d3e1Wq1Wq9lsdvcGUA/de84VFRVAb0QikcPh9HgXkUh0cHAoLi6GIKioqCg4OJjNZnd0dBQWFsrl8s6TWAKBAGQpi8Xq4yIk/cTGxh48eHDw8Qye48ePT506tcevcnJy+Hy+fgd3A+k5A/W2trYmJCTMnDnTz8+vsbERh8OhKKqzaWk0mitXrrx8+fLQoUPD6W2gN7RaLbA2oyiqM1aBfztfhDrZpXXW6e7T1O3t7aBe9PX17dIt1Gg01dXVEAS5uroO52axwSCRSOLj4/ft2xcSEmJkZJSSkrJly5bvvvuuN+F1oXvPWTfmNDQ01DPJr5ukaG1t9fX1nTp16pUrV3Jycq5fvz5nzhxgTVAoFH/88UdzczOFQlm/fv2QODbo6OgAv9EbZ2C2GB19VS+RSAQZhyAI6Ns8ffq0urr6yy+/pNPpRCKRRCJptdr29nYQvra29syZM2PHjn3//fcHk74hQSQS7dmzRyqV4vF4BEFAW4GiKPgX/AVChf5Vr+4rS0vL7gvc+Xw+OEl91KhRXb7SaDRcLheCIP2zLG8PEokkLi4uOjo6KCjo0KFDHA5n8+bNiYmJMAz/+OOPA9s8pKu2uneDO6ObRCSTyZaWluvWrauurs7MzNy3b19LS0toaKhIJLpz586pU6eoVOqiRYsWLlw4gMR0Z+rUqd093bwRupcfCIKoVOrKlStjY2NfeXtf1UsgECgUCgzDoO3VaDS//PJLeHj4uHHjYBimUql0Ol0ikYBJIxRFjx8/LhKJoqOj36CpWYdcLj9//nz3meq+4O/v3129L1++BCXPz8+vy1dqtbq2thaCoGFz6jsYFApFfHx8dHS0mZnZ8ePHXVxcYBjeu3cvkUi8cOECgUA4dOjQKwXcvecMOt5arVYmkykUiu5WK4BuRsfGxgaG4eDg4PPnz3///fdJSUk7d+40NzdHEEQoFLq6uq5cufK9997rcZ3mAPD39x9O33H9hUQivfPOO0OpXhiG2Ww2mUxWq9UikSg+Pl4sFq9atQqI08DAgEqlikQisCji0aNHCQkJ+/fvB9oezJsMCebm5llZWboFGHg8XqPRgBUCBAIBtMY4HE53kUgkajQa0OXrcXEFsGCTyeTudWdtbS0YWbz96gUn8ezYsWPMmDGxsbGurq7guo2NzQ8//ECn0+Pi4pRK5b59+4C6eoune8/ZycnJxsaGx+OpVKrc3NweVxpLpdKioiIIgkgk0rhx4yAIwuPxDg4OBw8eJBAI9+7d2717NzAr9OZWCqMfFjwqlQqKdWlp6e3bt6OionQOuMhkMvAaIRAIysvL9+zZM2/evLlz574y05ubmy9evMjhcGbPnj0YnWdkZGRnZ8+ZM6e3ycAu/ngHg1arBatTHB0du0+DVVVVgQ/9ta88evToxYsXUVFRg7R11dTUJCcnh4SE9Ngr06HrMI8dO/bQoUM66QIMDQ2//fZbhUKRkJAAw3BMTIwe/xLdodPpU6dOjYuLU6vVDx8+7FG9T548AZMXvr6+uo11Wq32/v37ly9fnjhxYlRUFCZa/fQjd6hUKolEUqlUf//9t0wm+/jjj3VfkUgkMpmMomhlZeWxY8cEAsGOHTvASU36KSkp2b59+65du9BBbCURi8WxsbE7d+5MSkoacCT9AoxswVCiy1c6W3R/u3lHjhz5/vvv7969O5iEaTSaW7dubdmy5eeff9YTDGw/iI6OtrCw+OWXX0aPHt39Rdhs9vbt2xcsWHDlypVt27bppgm7073nbGBgMHv2bEtLS7AuEmRXZyQSyblz5yQSCYVC+fDDD3VVg0ajSUhIaGtr4/P5JSUlEolE+y/9yIX/GfrR9jIYDBKJ1NbWVlxcHBsb27k1AyuxUBRNSkqysbH5/fffwVTeK3F2dl69evUgt9ExGIypU6ciCDJ+/PgBRzIACgsLs7OzPT09IQgSiUQikYjD4YBm2dXVtS+VV2eWLVtma2s7ceLEwSSJQCAEBQXNmjVLj7FQJpMdPXp0165dAQEBf/zxh54evrW19aFDhwwNDU+cOCGXyw8cOGBtbd1d5xqNBlinUBQFm9pxONy0adPWr19/4MCBZ8+eff/99zt27ND1KQQCQWxs7I0bN/B4/JIlS5YsWaIbnqAoCjovqamp3t7eBALBysrKy8srMDAwODjYxcXFzs7uDS65HR6EQiE4ZPTV9H3rw7179+zt7XE43Pz58+vr6zt/xeVyIyIiIAgyMjI6cuSIVCrte7QjDgRBdMYqV1fXpUuXfvLJJxEREbNnz05PTweLExYuXNjS0vKmU9ozZ86cMTU1nTRpEjgd75Xh29ra1q5dy2Qy169fLxQKO39VXV2dmJh44MABUAVQKJTFixefPn366dOnKIoKBIJdu3axWCwymTx79uyEhIQ7d+5cunRp2bJlRkZGBgYGS5curaqq6hwhl8udMGECkUi0srLqYhYmkUihoaGnTp3q6Oh4ZZpPnjwJQVBZWVn/subtQDdxk5qaqj9kP6oxqVSqUqnMzc2XLFnSZXhJIpEoFAoej4+MjFy6dOlgPAy8/cAw/OWXX27evLmxsbGsrKy+vj4wMHDevHkTJ06kUqmtra14PN7Ly+utddTG4XACAwO///77Pm4/MDQ03LZtG4lEsrKy6rLLIj09ffv27Q0NDWDeUqFQXLhw4caNGxEREaGhoSwWa9OmTV5eXnFxcSkpKampqXQ6XaFQCAQCPz+/jz/+eM6cOboenEKhuHz5clxcXFtb2/79+0NCQuRyeXV1dUlJSUZGRl5eXkdHR1paGpfLpdFofTGpjHQ+/fRT0K3TR9+rBJVKJRaLJRKJWq3u8hVYyyYSiTpv19QDgiAPHjz44osvAgICPvjgAx6P1/dkdKa1tTUmJmbBggWOjo4rV64cWCQDQK1W19XVPXr0KC0trbGxUSaTaTQaFEWTk5NNTU05HM6tW7f6GJVUKt27d++8efPs7e0TExMHnCSxWHzhwoWVK1d6eXlFRER06Rx1Bqx17Uur2xmlUqlSqbpfFIvFom507nyBssHj8W7evPnXX39dvXq1vLxcJpN1LkUqlernn39mMBgsFuvx48e6rzQajUqlkslkNTU1W7ZsAa1CVFQUn8/Xn9q///7byMjI0dGxX+/YF8BytCGPtjOg7Y2Ojn5lyH60vQQCobchBwzDvc3p9VZlkMlkJpOZlZUVEBAw4KlzAoEA9v3fvXt3OJ2/gcX03Q96zMnJAdtQAwIC+hiVWq02MjJqaGiora11d3cfTJLs7e39/PySk5PZbLaerYgwDA9gx0iPM2dEIvGV25VB2bC2tra2tu4tjEAg+OWXX8Ri8fvvvz9hwgTddRwOh8PhCAQCh8PZuXPn9evXi4qKhELhK/eKz549+9q1a7dv39YfrC+A9b91dXVNTU2NjY3Nzc3BwcHd3T5WV1e/fPmyvb3dyMgoMDBweErjmzEA4PH44OBgFov1/fff29raDngVNJPJnDp1qkQiOX78eJc5j+FHKBS+fPkShuEFCxb03RMdk8lcvHhxVlZWQUHBYDwSUiiUMWPGWFtb792719bWtl+V6RunoaEB2Op7O3MEgiAqlQpy1c7ObjiHZmfPnj1//jyfz29ra2ttbZVKpXFxcV3Um5SUFBMTU1ZWJhKJmEzm5MmT9+zZM5gC6e/v3xfD1ZscPGRmZrJYLGAJG3AkKIo2NTWJxWI3N7chTFtfAGuJgJs1rVabmZmZmZk5c+bMBQsW9Cue1tbWmpoaLy+vwW+i7OjoaGxstLe3H1mmB7VaDT5kZWV1d8UKqKqqqqiosLCwmDlzZl86a0eOHOFwOGBB62AwNzf38vJycXFRq9Vg27avr6/uW4VC8dtvv61bt87f3z8qKopMJre0tCQmJqalpaEDnQRtaGiwsrLqS0fsTRrfMzIyTExM9FS3fUGpVPJ4PDMzs8E4wh4Y4HgxLy8vd3d3Go0WFxdnZma2f//+/jrQ4PP5XC43MjJy8EmqrKyk0+nm5uYjy6hjY2NjaWnZ2NiYmpoaFxe3cOHCzt6IEAQpKSn57rvvpFLp2rVrw8PD+2JsY7PZAoFg/fr1Fy5cGEzapk+fPn36dAiC3n333fr6enNzc93sNFhbAhaHHzp0SK1We3h4REdHUygUcHrGwJ744Ycf9nHFzhtTL4IgBQUFbDa7jxtZegOceuzk5DT8u/+vXLny66+/kkgkGxsbIyMjGIYPHDgwgN4vn89vaGjQvzSqj5SXl5uYmPRxsv3twcjIaM2aNQcOHJBKpbt27crIyAgPD/f09MThcG1tbRkZGTdu3Kitrd26devy5cvf1AYD4KKsc0lTKBQHDx5samrav38/MAEsW7bMycmJRCIFBQUNWL0GBga6k4H188bUW1dX19LS4ubmNsg1jAqForq62sHBYfjV6+DgQKfT5XJ5Q0ODk5PTwYMH3dzc+rsrEDQsEAQNxmSlo6SkxMjIqF+rGt8GwBE+TCbz559/bmpqunTp0o0bN+h0Oh6PB17HwsLCDh8+PHr06H6N5xMSEqZOnZqQkLB48eJBprCmpgZse3Rzc9Ol4datW//884+vr6/OAwGRSASeKgbMd999JxQKe9v024U3pt6ysjKpVOrr69tbH08qlWZnZ7PZbHd3dz2GTYVCUVlZOWPGjOEf6S1ZsoREItXX13t4eISHhw/M45xarc7NzXV0dNSzslKj0eTm5mo0Gk9PT/0tT2FhoZmZ2RAu6h42DA0N165du3jx4vv371dUVIBpc2NjY0dHx/Hjxw/suGMXFxcPD4/ufhQHQHFxMRicu7m5gZKmUqlOnjyJIMjYsWO7zz4MjLq6umfPnl26dKmP4d+YepubmxUKhVAorKys7Ojo8PPz69LTuHr16rZt2ywtLcFZXr3FA/yP2djYvBFPq/01UHUHRdG6ujowgazVahkMRvfJhpycnDVr1ohEopiYGD3DY9ALcHV1HX4TwFDBZrPnzZs3VLEZGhqePXs2ISGhvr5ez3xVXygvL9doNAYGBra2tmDetKSkpLS0lEqlenp6DpXrmKdPn9LpdD0HJnXhjdk2HBwcWCzWxYsXN2zY8OzZs+4B6urqYBguKioCG+56o7i42NTUVP8WtrcZsDCroaFhw4YNf/zxh26VXGeam5u1Wm19fX1dXZ2eqMCqw8EcQvnfh4uLi1QqnTt3br/u0mq1Go1GrVaDNSoajaakpEStVpubm+vmAtPT0wUCAegdDEnZ4/F4u3fvnjp1at8HPm+s7Q0NDc3IyFAoFKampj2Wtq+//prD4Zw/f15/S/L06VNfX99Xryl7WyGTyYcPH962bRuDweitCo+MjPTy8vroo4/0j41fvHhhYGAwY8aM15PSkUpMTMyGDRtycnK6u1LoDoIg9fX12dnZly9fLiwsFAqFTCYzODg4NTUVQRBLS0tzc3OwhPPhw4cikQicC1FTU4OiKAzDNBrNxMRkYGKeNm3aJ5980i8/mG9yxki/LHk83v379+fOnWtsbNxbGIlE8vLly6VLl47EkZ4OEomkv7MEjgKbMGGCHo8QSqXy+fPnYWFhuk3XGDoOHTp06dKlV6pXo9EkJSX9/vvvz58/Hz9+/HvvvUej0S5fvvz777+DAObm5iqVKjo6+ubNm8XFxaBDtHv3biqVCtQ7ceLErVu3DmwQt2XLlk8++aRft7yNm62kUundu3cTExOnTp06Z86c7tYgkUh048aNMWPG/PPPP87OzgsXLhxZ05t9R6PRZGRknD171sLCYtOmTd13Hcrl8nv37llZWUkkktbW1r1792Ld5u6QSKSPPvrolcFOnz69a9cuhUKxZcuWjz/+2MzMjEgkjhkzZsWKFVVVVTAMm5mZ8fn8x48fg/WbMAyDUZsuhsEMgPsrXQjqzz547xcAACAASURBVC6FYaO5ufnx48etra29raR/8OCBhYWFtbX1xx9//NZuxBsS5HJ5WlpaZWVlbyvjCwsLw8LCTE1NZ86c+fz58/7uPcAAyOXyo0ePguMgz5w50/mwOODCjUKh0Gi0w4cPIwiiUqkePXrk6OhIIBD27dun7gTYrDJsvI1tLziMT0+AoKCg/fv3MxiM8PDwvh8APxIhk8nBwcF6Ajg5OW3evLmpqWny5Mkjxfn724ZWq01PT//555/FYvHq1at1zmh1AGUCz/vAI7xEImlvb8fj8Y6Ojm+ws/M2qveVUKlUcOQkBolEmjlz5ptOxchGLBbHx8eXl5cbGxtv2LChixdUuVxeV1eHIIiBgYHuTMy2tjaxWEwikd5sjfnfOVzEwOg7XC734sWLKIrOnz+/uxpFIlFZWRkEQQwGA3gaVKvVlZWVwN33mz2qClMvxv86t27dAr5B3nvvve6TPRKJBHjVc3FxAatxVSoVOIqByWQObBHYUIGpF+N/nefPn0MQxGaze9zuJpFIampqIAjSrSnQaDQ8Hg/qv9PfIQdTL8b/NFqtFnSMbWxsetwCUVFRAVb76aaLVSoV8CXwxk94xdSL8T+NSqUCR+Sw2eweHT8VFhZCEITH43VbOKVSaWNjIwRBw+8QoguYejH+pwGLLiAIUqvVPfp8Bw66TUxMdMuPa2pqwH6jwXgyGhIw9WL8TwP2IUIQVFtb2+U8Tq1WW1hYmJaWBkGQs7OzrmUG/uJhGO6XW5hbt26Fh4cnJycPWdIx9WJggPUwjY2Nd+7c0V0EC6rWrFkDDtbTbQyE/u1LW1tb98vLR25ubk5OztOnT4cw5SNytQYGxhAyZ86c06dPy+XyH3/80czMLDAwUKFQJCUlJScn+/v7//PPPxqNpq6uTqlUUqlUiURSUFAAQZCTk1O/TreNioqytLQc5Ek3XYDRQRz/hYHxX0BHR8e6devAaYmmpqbm5uYajUYul2/cuHH+/PlOTk7gCOJx48axWCw+n5+bmyuVSpcvX37w4ME3e2IGfteuXW/w8RgYbxwKhRIWFsZgMEQiEQzDRCLR29v7+PHjkZGR4HiH5uZmFouFw+FsbW3Hjx+fnp4OQdD//d//BQcH92Urb3Nzc2NjI5fLlcvlQ3WAOABrezEw/j/19fXNzc3Az6luowKCIC0tLVKp1MTEhM1mX7x48fPPP7e2tj558iQ4NFw/arX6xx9/vH37dn5+/tq1a4e2scTGvRgY/58ej2vB4/GdfSdkZ2crFAo/P78+evDF4XCRkZFSqfTRo0fe3t5DmVzM5oyB0Xeqq6szMjJMTU3Xr19PpVL7cgsej3dxccHj8Ww2e8hXVmLqxcDoFQRBuFwuOFscQZAnT54UFxd//vnnY8aM6XskKpWqoKDAyclpyP3IYz1nDIxeSUlJOXjwoJOTU1BQkIWFRWxs7NSpU5cvX96vSNRqdUFBwahRo7o7NhokmHoxMHolLS0tNTU1LS3twoULLBZrxowZu3fv7vsBkQCBQFBeXj537lys7cXAGD5mzpyZnJwsFArNzc3nzZv3+eefD0CBubm5ZDLZ0dFxyA/rwdSLgdEr48ePP3HiREdHh6Wlpaur68BcWOXn5xsZGb0Op8WYejEw9BEQEDDIGIATrIyMDAqFQiKRxo8fPyQJgzD1YmC8bubOnVtaWvrixQulUrlo0aIhjBlba4WB8XrRarVisRiPx1Op1KE9bQtTLwbGSAVbrYGBMVLB1IuBMVLB1IuBMVLB1IuBMVLB1IuBMVLB1IuBMVLB1IuBMVLB1IuBMVLB1IuBMVLB1IuBMVLB1IuBMVLB1IuBMVLB1IuBMVLB1IuBMVLB1IuBMVLB1IuBMVLB1IuBMVLB1IuBMVLB1IuBMVLB1IuBMVLB1IuBMVLB1IuBMVLB1IuBMVLB1IuBMVLB1IuBMVLB1IuBMVLB1IuBMVLB1IuBMVLB1IuBMVLB1IuBMVLB1IuBMVLB1IuBMVIZDvWiKFpeXv7DDz+sW7eusLBwGJ74mhAKhefOnVuwYEFGRsZwPre6ujo6OnrKlCk7duwQiUTD+ej/DvLz87/88ssJEyYcPXpUq9X2FqykpITL5fb2rVwuT01Nraur0xODHlAULS0t5fF4A7i3N4ZDvZWVlb/88ou9vX17e3tdXd0wPPE1oVarhULhs2fP2tvbh+2hra2t0dHR9vb2q1evtrCwQFF02B7930Ftbe3OnTtnzZr18ccfU6lUPSHXrVu3b9++3nK4trZ23rx5SUlJA/sJFArFmjVrYmJiBnBvbxCGMC4dqampnp6eRkZGEASpVKqkpCQzM7NZs2aFh4dTKJTX8cThwdTUdOrUqbGxsQOrfQdGfn5+eXn59u3braysUBQlEF7LT/ZfzP379+Vy+aRJk8aPHw9BEAzDvYXcs2cPHo/vLYClpeWxY8e8vb1xuIG0eWQy+euvvwaiGCqGuCigKFpSUvLVV19du3ZNJpNRKJTm5uYnT558+umnRCLR2NhYT94NYRpEIpFKpWIymSKRSC6X0+l0IyMjGIYRBOno6FAoFEZGRhQKRS6XCwQCMplsZGSkUqk6OjqIRCKRSBQKhTAMm5mZabXa9vZ2lUplaGhIp9NhGEZRVKvVKhSKhoYGlUrFYDAMDQ11P6dMJmtvb0cQhMViMZlMGIaVSqVIJCKRSCQSqa2tDcTTW8r5fL5MJsPhcMbGxqCVQFG0qqpKKBTKZDK5XG5gYNBbBiqVyvb2dqVSSaVSDQ0NiUSi7qvW1lapVArDsJGREXg6giBtbW0ymYxAIICsEIlEMpmMzWZTqVSFQiEQCAgEgomJiUqlEolEeDyeSqW2trYyGAwDAwPQe2cymXw+38DAAJRIiUQCuiTg3UGSOjo6KBQKDofr6OjA4XDgWSBVUqlUIBAgCEKj0YyMjEAeikQigUCAw+HYbDaDwQAhBQKBSCTSarUsFsvQ0FDPTw9SrlQqaTQam80mEokajSY/Px9F0Y6ODgKBYGBg0OONGo1GKpU6Ozubmpr2lsM4HC40NJTFYoHYNBoNk8ns6OgAjzM2NtaTMJVKJZfLfX19TUxM9ATrL0Os3tra2ujo6IaGhmvXrrHZbH9//8TExKKiouzsbIVCMXHiRCsrqz5GhaJoQ0ODRCLRarUgQ8EH0O45OjqSyeQeb6yrq/vtt98KCwunTp3K4/Gys7ONjY1//vlnKyurpqam33//PTMzc/fu3X5+fg8ePIiNjfX29t61a9fDhw9PnjxpYmLi7u6emZnJ4/GioqLodHp2dnZubm5oaOjmzZvZbDYoZE+ePHn58mVpaalWq125cuXEiRNxOFx1dfWlS5cEAoFCoYAgaPny5Q4ODiDaUaNGmZmZXbhwYfny5YsXL+6eZo1G8/Tp0/Pnz5uamqpUKgMDg48//tjJyamxsTEtLY3P558/f97R0XH69OlmZmbdb29tbT179mxtbS2NRpNKpaNHj/7ggw+oVCqKoo8ePbp27ZqRkVFtba2VldXGjRtZLNaVK1eePXvGZrMrKyt9fX0jIyOTkpJSUlK2b98+adKk1NTU2NhYa2vr/fv3Z2RknDhxwtra2sPD46+//oqMjAwMDIyLiyORSGFhYWfOnAkKCvr2228rKiouX74slUqlUimBQFi3bp2pqendu3fj4uIcHBwcHBxevHjB4/FWrFgRFRVFJBIrKir+/PNPrVYrFovb2to2btzo6+ubl5d35coVtVotEomoVOo333xjaGhYUlLyxx9/UKnU5uZmGo12+PDh3gpMS0vL2bNn6+vrqVSqVCr19/efN29eVVVVfn5+Q0NDXFycvb19RESErlLQgSDIy5cvL1y4wOPxEhISeuzdiESis2fP3rt3b9OmTWZmZrGxsZWVleHh4VVVVTk5ORYWFkePHu2tXQXxJycnv3jxIj4+fggFPMTjXjKZrFarR40a5e/v7+npSaVSNRoNnU63t7c3MTEhkUh9j0qhUFy9ejUmJiYmJubw4cO6D+Azn8/v7UYDAwMzM7P8/HwDA4OFCxeuXLmyoKDg9u3bEATRaDRvb+/KykqlUonD4WxtbQkEQltbGw6Hs7Ozq62t5fP5fn5+GzZsMDc3j4+PJxAIH3/8cWRk5Llz52pra0H8MAx7enquWLFi586dOBxu//79lZWVYrH4yJEjQqFw7dq1X375ZXNzc2xsLB6Pt7e3r62tvXXrFoPB2LBhg4eHR49pzszM/PrrrydMmLBp06b169eXlZUdPny4tbWVTCbb2NgwGIygoCA/P7/e2u2TJ08mJycvWLBgy5YtEydO/OOPP5KTkyEIevHixZYtWyZPnrxp06aAgICLFy9yudwHDx4cPHhw5syZX3/9taWl5aVLlzo6Ovz8/MrLy5VKJQRB1tbWVCq1paUFhmFra2s+n3/r1i0cDrdmzZqAgABLS0u5XH79+nWJRLJy5cqwsLDW1tZDhw5BEPTFF1988cUXpaWl8fHxeDzeycmprKxMKBQGBgZu2LDBzc0tISGhsbGxvb39wIED7e3tq1at+uCDD7KyslJTU6urq/fv329hYfH111+vW7fu8ePHiYmJEAQdO3ZMKBR++eWXa9asaWxs1FNgYmNj7927t3Dhwi1btoSGhh4/fvzu3bssFsvY2NjIyCg0NNTLy6vHGh/0SpqbmxsbG3sbmOBwOCsrq/z8fLFYDDpceXl5LBbro48+WrFiRXp6+sOHD3tLGAzDFhYWVCq1oKCAxWLpeYX+MsRtL4lEgmF40qRJY8aMAVesrKycnZ1nzZrV3yqHQqF89NFH8+fP7/FbPR0VU1NTLy8vJpM5fvx4T09PDw+PkydPVldXQxDEZrO9vLy0Wq1Wq8XhcI6OjiAeEonk6enJZrOdnZ0nTZoEQdC0adPOnTsXHBzs5OQEQdCZM2dAdxH0nG1tba2tra2trTdu3Pjee+8VFRWp1erk5OTt27eLxWICgcDhcG7dugWiZbFYXl5eCxYsIBKJPQ6YNRrN1atXJRIJCMNmsz/55JNly5ZFRUVNmjTJwcGByWT6+flZWFj0+L4ymez3339funRpUFAQDoebPn361atXf/vtt9mzZwMBREZGEgiEhQsXBgYGurq6Ll++3N7efsqUKXg8fv369QsXLvT09BQKhSBbIAhycHCwsLDg8XgEAsHNzc3U1NTU1HTRokUkEgnkm5WVlYuLy5IlS8hkslarTU1NTUtLmzZtGuj02tra3r9/f/fu3T4+PnQ63d3dHQw4Gxsbv/vuO4lE0tDQ8OjRo+PHj1tYWLBYrDNnznA4nAcPHpSWli5btozP58MwbGdnl5KSsmzZMrlcXlRUVF9f7+jo+Msvv/T2o8tkshMnTqxatSowMBCHw82cOTMxMfHYsWO3b982NzdXKpVBQUG93YvD4TgcDolE8vX17S0MnU738fHB4/EQBFlYWLi4uDAYjAkTJjg4OLi7u//666+ggPUWv62trYGBgaOjY+cRzeAZYvXy+fy6urpPP/1Ud6W8vNzY2BgMhPqFVqttaWlpb2/XlXhQdFAUxeFwDAZDf0boDIMEAgGHw+mGpiiKwjDcm+FBdxeFQtE9l0AgEAgElUoFQRAOhwOjX/CVkZERi8USCoUVFRVyuTwrK6uhoQGCICaT2TkTKBQK6Hf0OKYSiUQ8Hs/Ozk73RtbW1jKZrKWlBfyLIIieN+VyuWq12sbGBrwUlUq1tra+c+eOUCgEhR60J0ZGRkFBQQ0NDc3NzePGjQMF0crKCoxlQLb0NuQjk8mg1dIFIBKJYAQLw3B5eblCoXj27Fl5eTlIvI+PT/csBTU7DMNlZWUMBgPUmwYGBv7+/mq1msvlKpXKBw8egJ6tr6+vvb09BEHr1q3bunXrwoULZ8yY8emnn/bWBlRVVSEIYm1tDTKBRqPZ2NikpaWBp2s0Gj0ZCEFQY2NjbW3tokWL9AfrnD+gXIEPekqULhN4PJ6Dg4P++PvLEKu3ra1NLpd3HptVV1e7uLj0q88MUKlUaWlphYWFPaqXw+HQaDQ9t3cxHnZu9LRabW9Gf1CmoX/H2J3v7dyn0n0FdMVkMslkMuhHBQcHd49Wv6GYSCQaGBiAXqsuWhRFdWLWXzJAcVer1borcrmcSqXi8XgSiQRqEx0kEolAIOjqhc7oyZbu6e98hUqlGhkZffrpp6NGjep+ry5LIQhCURRFUSqVKpFI5HK57joMw0Qi0dzcfM2aNRwOp/PtPj4+J06cSElJ+f3338vLyy9cuNBjWWIwGFqttnMmyGQyKpUKfrvOaeiR5ubmlpYWb29v/cE6gyBIl0KlJ7BUKm1ubnZ1de17/H1hKNWr1Wr5fD6ZTKbT6eBlYBhubGwMDw8fQGwUCmXu3LmRkZE9fqvf9ghBkEajAWUR1Pe6conH41UqlUwmQ1EUhOmsDd3P37ktAl1KIFTQcwbXEQTJy8szNTV1cXGh0WhKpTIrK8vf359MJiMIAoxPIDbQbvcGGI3fvHkTjKm0Wm12dra9vT1ofKBXlQwrKysOh5Ofn69SqUgkUnNzM5fLnTJlCovF8vDwSE5OLi0tdXZ2xuFwGo2GxWJ5eno+ePCAy+Xa2dnBMKzRaPB4PB6PB3ZXkC1dGqvu6e+sE1dXV4FAkJub6+HhQSQSu7y7LiTuX9zd3TUazfPnz/39/SkUCshS0P8sLi62trYGv5darVar1ceOHVuzZs2SJUuoVOrevXsFAoG5uXn3TAADmYKCApAJjY2N1dXVERERQLevnKFtamqCYdjY2Lhzrd2dzvHogoHumP7+UUdHR2tr63vvvac/Gf1liNtejUbT0NBw8+ZNPz8/JycnQ0PDxsZGMHSEIEir1QoEAiaTCWpuBEHEYjGbze4xKhiGe/tKP62trQUFBRKJJCcnx9XVtaSkpK2tjcvlcrlcBwcHY2NjU1PT//znP83NzWq1uqysjM1ml5aWIggiFAp5PF51dTWNRistLW1vby8uLrawsCgsLBSLxfn5+aNGjQI/VWZmJoFAqK2tvX79+jfffOPj46NUKr/44osTJ060tbUFBAQ0Nze/fPny8OHD5eXlQqGwtra2qKjIycmpR6sJDodbsmTJy5cvv/nmmw8//BCYN1evXu3j41NXV1dSUiIUCnNyciZNmtTjhAeBQPjhhx/27NkTFxfn6+t7//59tVr99ddf43C4xYsX5+TkfPTRRwsXLrSxsREKhRMmTNi4cWNeXt4nn3wyb948ExMTmUwWHh5uYWHh4OBw7NgxkUiEw+EKCgo0Gk1JSQmZTG5pacHhcPn5+c7OzmQymcvl1tXVtbW1vXz50tnZGYxsV6xYcejQoaamJnd396amprKysr1795aXl4vFYi6XW19fT6fTc3JyhEJhVlbWnDlzNm7cePTo0cbGxsDAQKFQaGtrGxISAqxuK1assLa2rq+v5/P569evv3//vqenp6mpaX5+flhYWI/SBZlw8ODBAwcOxMfHe3t73717F4bhL774ory8HESVn5/v5ubWWx9QIpFIpdLMzEyVSuXq6tpdwDKZLDs7WyqVFhQUODs7FxcXC4XCly9fWllZFRQUdHR0VFRU1NbW2tra9lYmRSKRs7OzvoLbf/C7du0aqrhgGGYwGBQKRSaTmZmZOTg4VFRU3L9/f/369cBYqlAoLl26ZGdnBzq99fX1169f9/f3H6oEAPh8fnV19ahRo8hksre3d1lZmbGxsaWlpYmJibW1NZlMdnNzE4lEYrHYx8cnICCAzWaDmWETExMOh2NmZobD4VpaWoAdy8bGpry83M3NjUaj2dnZsVgsMOPX3t5OJpOXLl0aEhICQRCBQPD09HR0dKypqamurmYymfPnz2exWIWFhaamphwOh0qlWllZ9VZ6qFRqSEiIQCDgcrktLS1z586dPXs2iUSqqalpb2/38vKiUChAPD3ebmVl5eHhUV1d3djYSKVSP//8c1AEGQxGSEgIhULh8/kikWj06NHe3t5mZmbBwcFEIrGpqUmtVgcEBLi6upLJZE9PTzAH6+npOXbsWENDQyaTKZPJGAyGk5OTgYEBSH9ZWRkMwx4eHiQSycrKikqlkkgkb29vOzu7iooKHo9nZGQE5qsKCgo4HI6lpaW1tTWRSKysrPT29iaTyYGBgT4+Pm5ubu3t7Xw+39zcPDQ01NTU1M/Pz9zcvLi4uLGx0dzcfMGCBQwGg06nFxcXt7W1mZmZffbZZ93ne3RYW1u7ublxudympiYGg7Fy5UoHB4fS0lI8Hu/i4kKlUjkcTm+2EjDPr1KpTExMrKysuqtXKpXm5eV5eXkxGAwGgyESiXx8fCgUiru7e2lpqaWlpZmZmYWFRW+WxcLCwry8vDlz5gysQeoN+JWdiv6i0Wh0VqJff/21vb3922+/1XU1eTyepaUlKIVSqbSlpWXIh/KvRKvVKpVKPB4/tAZAABi+AgvNwBKGw+EGYCaAIEij0ajVahKJ1GWYBwaEOisLAHRNO6dTq9WqVCoYhgf2dAiCFAoFuL2P767RaLRabZdfQS6Xg59GFwmYPyeRSH1Z5AQygUwm92tFFBgZdbZuDiEajebEiRN8Pn/z5s1Du9Zw6NULQZBWq927d6+trW1BQcGuXbtAfalUKs+fPy8QCJYvX06j0erq6n766adp06ZNmzZtyBOAgfE20NDQcOPGDRqNVlVVtWzZMktLy6GN/3Utmm1sbFQqlcuXL9ctMCCTyWw2W6lUgqrdxsYGLJF7TQnAwHjjaLVaHo+HIMjy5cuHXLrQa1IvDMMHDx7ssqwUQRCBQMBisXQ9perq6iEfx2NgvD1YWVlt2rSJQqH0ZrAYJK9rhyBYzt75ikKhaGlpIRKJ2dnZZWVlMplMoVAM7cIxDIy3ChiGWSzWa5Iu9Pp6zj08iUBwc3OTy+V37twhk8nTp0/39vYehi1HGBj/rbwWq1VvaLXa+vr69PR0EonU3t7u4+Mz5NNFGBj/OwyreqF/N1K+ePGCQqEEBQUNeHICAwNjuNWLgYExVGA+JTEwRiqYejEwRipDYHOWSCRNTU0ikcjd3R14Y0IQpKysjEAg2Nravj5z+esA7Iml0+kcDud1LJrrEa1W29zcXF5eTqFQvLy89Ps9lMlkNTU1RCKx835gjEGi1Wo1Gg3YqasnWOdVwG8DQ5CO4uLio0ePfv31183NzRAEqdXqs2fP/vHHHytXriwqKhp8/MNJYmLi5s2bT58+3XkH3OumqqoqLi4uMTHxyy+/fKW/6/v372/bti02NlYikQxP8v4XyMvL2759ux5nzhAEtba27ty5MzU1dchNRVlZWd99951QKOzvjUOgXjc3N3d3d5lMBhbHp6SkZGZmLl++fP78+Xp2hLydhISEMBiM4XTXrFKp4uPjSSTStm3b9u/f7+joqD+8v7+/jY1NU1OT/g2lbw/D6T13YAnQarVlZWVnz55tamrSE4zP5yckJBQXFw/5G1VWVp49e3YApW4Ies4GBgYCgcDV1ZXBYLS2tp4/f37evHlubm5ubm6Dj3yYsba2NjQ0BPvFh+eJSqXyzp07X331lZmZWY/+Irtgbm5Op9OBz9phSN4gUavVSUlJY8aM6W3j6+umtrY2Ly8vLCxMT0MCw/DcuXPfeeed3vzFAtzd3cF48JWeOvpLVFTU3LlzBxDtwNULVmDn5uaKxeLMzEwPDw8DA4OcnJza2lpLS0upVEqhUIb8PaF/XQQVFRU5ODioVKqXL18aGxuHhIQYGhpqNJrKysrCwkJXV1dvb2+ZTJaWlqZSqUJDQ4lEYn5+vlQq9fT0fPHiRXt7e0hICIfDyc3NLSkpcXZ2HjNmDPCxBtyU3r17t7m52djYeOLEiToPeEKhMC0trbGx0d7efuzYsQwGQyKRFBQUSKXSwMDAR48eMZnM0NDQ3iaxS0pKcnJyVCqVu7u7v78/GLXW1dXV1NTU19fn5eVxOJzefIZoNJrMzMzi4mKlUllaWmpgYNC5fklNTa2qqsLj8YGBgbpKUyAQPH/+vKGhwdTUFKT2xYsXIpEoODgYOIjNzs62sbEJCgpCEITL5ZaXl7u4uAgEgoKCAgcHh7Fjx9bV1WVlZeFwuIiICN1+EoFAkJaW1tTUBMLQ6XSxWFxQUCCTyTw9PbOystra2kaPHu3r66tWq1NTUw8ePLhx40ahUAjerrKyMj09XSaTcTicyZMn65nwf/r0aVVVFQ6HCwwMBL44lUrlkydP6urq6HR6aGgo8MglEony8/OVSqWHh8eLFy8EAkFgYKCXlxcEQWKx+Ny5c+np6QwGw8LCwsbGRqFQpKam8vl8KpU6ceJEGxsbkLdFRUXNzc3BwcEqlaqwsBBFURcXl4yMjI6OjuDgYODRprKyksvlent7W1hYCIXC/Px8CIKcnJwyMjJEItH48eOBFwoURSsrK3NyciQSibOzs7W1NYFAsLS07O1Nq6qqeDyevb39ACq4ge/Ov3Xr1smTJ+3t7fPy8i5fvjxnzhwajbZ58+aysrL6+vr8/HxHR0f9W4hqamqePn1aXl5eUVFRUlJSUVGh+wD8cffYvDQ1Nf3111979+4FLuCys7NPnTpFo9FGjx4tEolu3rz5ww8/WFtbBwQE5OXlHT169PHjx2FhYSUlJQcPHjx37lxxcXFdXd3ff/9969atioqK3Nzc58+fA2/JLi4uoCWsqqqys7NrbW09depUenr6tGnTSCSSSCT66quvpFKpg4NDQkICl8sNCAjIyMg4ePDg48ePa2pqLl68WF9fHxYW1r0KRxAkOTl57969bm5uBgYGsbGxLS0t48aNa2trO3/+/P3794Hbeg6H05vviJ9++uny5cvu7u7m5ub//PMPjUabOXMmlUpVqVRHjx5NSEgYM2aMRCKJiYkxMTFxcXERCoUbNmwAO/JPnjxZWlpqaGgYHx+flJQ0YcIEFot1/fr1n376CTgAra+vj4+Pq57LXgAAHuFJREFUj46OzsrKampqevr06blz50pLS9PT08vKyv7888+2traIiAgIggQCwaZNm5RKJYfDOXv2LI/H8/f3f/bs2cGDB8+fP8/lcmtra69du5aSkhIREdHe3h4XF5eWlobH44HfCR6Pt3fvXm9vb5VKlZCQAF6h+8tqNJqffvopKSkpJCQkNzc3Pj5+7NixVCp1586dz549CwgIqK6u/vXXX11dXS0tLR88eHDo0KGLFy9WV1fX1NRcuXLl0aNH4eHhTCYzIyPj5MmTXC4XQRDgqnLPnj0UCsXR0fHq1av37t175513CARCYWHhDz/88Pfff8+YMSMzMzMmJiYxMbG2tpbL5V66dCk9PX3y5Mlisfi33347fvy4v78/h8NJSUmJjo6+du0aj8erqqq6dOlSdnZ2WFgYnU7PzMzcu3evq6srnU7ft29fWlpaWVmZv79/j958GxoaYmJiYmNjPTw83N3d9YilZ9ABcffu3eDgYOA/paamxtvb+8aNG8ALUVRUVH19vUqlAq7V9PDgwYN1vZCSkqJWq3u8C0EQtVptYWERGxsLPP1v27ZtxowZfD4fQRCRSOTn5/fTTz8B/0znzp0LCQkpLi7WaDS//PKLv79/Q0MD8N7q6Oh448YN4OMqICBg27Zt4Jiizz//fM2aNRKJRKPRZGRkODk5HTx4EEGQ9evXL1myRCQSKRSK27dve3t7Z2RkgHLGYDCuX78uk8kEAkGPyS4uLvbz8/vtt9+USiWCIE+ePHFxcUlKSgKlytLSMjExUaVSAT9b3UlISPD19S0vLwcuo7Zt27Zo0aKWlhYURRMTE+3t7bOyshAEQRAEFK+srKxVq1bNmjVLIBBoNJrNmzevX7++qanp7t27o0aNys7ORlG0vb39/fff37p1K8jS9vZ2MzOzv/76S61WV1dXz5w5c/Xq1RKJRK1Wf/fddx4eHnK5HEGQVatWffbZZyATrl+/PmrUqJycHI1G88MPPwQGBra2tgJnQ66urmfPnkUQ5NGjR15eXunp6eDtDh06NHHixPb29o6OjsOHDwsEgh5/3z///BO410YQ5Nq1a++8887Lly9//PFHT0/PmpoaBEFkMtnGjRvfeeeduro6tVq9e/fusWPHisVitVpdUlLi5OR04cIFFEVlMtnu3bvnzZsHfvR79+5NnTo1IyMDRdGUlBQPD4/c3FzwxPPnz/v4+FRVVanV6o0bN4aFhalUKrVaXVhYaGtre+3aNQRBiouLXV1db926haKoWq1etWrV9OnTVSqVSqXKz8+3tra+efMmiqIffvjhsmXLFAqFTCbbunXrvHnzmpube9MCgiAFBQW+vr4PHjzQL5YeGUjPWSQSxcbGvvPOO56enhAEtbe3EwgEcMoOj8ezsrJisVh9OW5n0qRJwHlyv4BhGPiLBI5aDQwMzM3NFQoFiqLgos6m39m4r3OJRiQS8Xi8jY0NhUIxMDAA6bSzswPVDfCriMPh8Hg86LPZ2Njk5OS0tbU9fPjQ29v74sWLeDy+rq6ORCIpFAqdmzXggKY3zwnFxcV8Pn/UqFGgtxwUFEQkEu/cuRMZGdn5XXq8F1QWPj4+Ovdg6L8e85RKZUZGBo1Gc3FxAf2USZMmffPNN0+fPn3y5MlHH30EtnDt3LlTq9XS6fTOj+icOZ2zFI/Hg34mmUwGeWVrawueJZFIHj58GBgYCDKhtrYWj8cDZyDArx0Ib2lpicfjgZ8N8Ag8Hg8ebW9vX1NTc+TIkfnz569du7bHGS+FQvH8+XNbW1tLS0sYhmfOnBkSEkIikXbt2uXk5AQ8TpLJ5AkTJiQkJDQ1NVlZWYEEgKcDvzbAHQd4R/B2eDx+ypQpISEhbW1td+/ezczMVKvVIFhnf67gd9f9HDY2NiiKKpVKEIlutAKC6d6Lw+GgKAp894lEInBoDgRBBAIB3NubkQKG4fr6egqF0heTR3cGot6KiorS0tIvvvgC/FtaWmpsbGxmZoYgSE1Njbu7ex/df+Tm5gLvYSiKEggE4NwQOCgZP358YGCg/mEzyBGQrV0u9mZz6pKJnZ3CoJ0sVZ2DGRsbq1QqPp+v0Wh0pjhnZ+fJkyeDyqt7tN0BnpZ02UIikRgMBugsQHpdsUIQ1NHR0d7erntWZ8CxPcbGxrrCR6VScThcbW0tcB8JLupc54JzZPQY5DpnSBeHuCiKCgQCrVbbORMiIiJ0w2xdeD0HeUVERERHR//yyy/Xr1//9NNPP//88+7LAcDJTywWSycAY2PjhoYGqVSqGxkCl10qlUo3bdaXp0skktOnT5eVlU2aNAlkWueS0zlbdNf7UgJBInUZGxUVFRsbe//+fSqVmpqaOmfOHP3OzHNycqysrHobMelnIOrt6OiQyWTW1tYQBGm12hcvXlhaWlpYWMjl8sbGxilTpvRxOlur1XYeInYe1r8yhs71GdrJqysQYW+zKZ29eEL/OvjU1c2gngYuo8EvoVarW1tbx40bZ2ZmBk7TCg4O7p62V6rXzs5OJpNJpVLwr1KpbGtrCw0NBYWjSzHqAplMplAolZWVCIKAogkaAZB7FhYWaWlpOgeu4LQxcMhTRUUFWIGgiwp0t/RUbboKEWQCuK57qKGhIZlMJhAI+jMB3Ng5AHgi+F0iIyOnTJly8uTJ6OjoadOmdR/sUSgUIyOjjIwMpVKpKx5sNtvY2Li5uVl3lhU4Pk5nSe7y9O6uvFEUPX78+Llz527fvm1oaPjixYvObly7NI89OgaGuv3QundEEETXgEdFRUEQdOLECX9//+++++6VW3EyMjLs7OwG5mRmIPO9xsbGDAbj+fPnKpUqJyfn6dOnlpaWOBwODJ/67gFk9OjRa3phzJgx+qs9FEV1RRZ4KgafSSQSlUotKipqa2sDLho736ULBvyh6RpqtVoNRiagGQQ/mEQiAYdiLViwwNjYOCIi4urVq8+ePVOr1VKpND09HaxOgSBIrVbrn2Hy9PS0tbV9+PAheNCtW7fIZPLcuXN176Jn8pbNZo8bNy4zM/P27dsCgaClpYXL5YIUkkikiRMnymSy58+fg2RcuHDBy8srPDx8xowZycnJt2/fFgqFIpGooqICeCcXi8Xl5eVSqZTH4wkEgh6zFHzQlVQwkkcQxNjYePLkyX///Xd6ejrIhOfPn+sOlOrst1mX1Xg8XiqVtra2arVaqVR6/PjxnJwcU1PTKVOmWFtb9/jWFApl4sSJQqHw1KlTTU1NCoWiqqpKKpVGRkaWlJQAS69YLL558+aMGTN0rtt1PwEOh9NV36DSaWlpkclkKpUKjHfodLpCoSgvL+/c3wH1mu5fXdkDsYGvurcKOjfXoD4F3+JwuKamJhKJBI5NAsfo9fbjQhBUXl5ua2urp/Olh4HYnBkMRm1t7enTp8FBB1wut7i4uKOjg0ajXb9+fenSpaAbAAb6nft1Q0Jzc3NcXNytW7fkcnlAQACXy/3tt9+Ki4txOBw4y0+hUJw4cSIjI6OoqEipVD5+/JhMJqMoGhcXV1RURKVSHR0d4+LiHj9+DPqB9+/fP3/+PJ/PNzMzs7e3v3fv3tOnT4uKih4+fFhbW7ts2bIJEyZAEOTu7p6Xl3fhwoVHjx6lpKQ0Njb6+Pjk5+cfP378/7V3pkFNXW8DDwkhIQlhS4Jskrghi2AFB1BfBKtVpC1YRUdaUbRqdXRQW2zHtYu2VVuLC1W0yjYwCQMDAkosIGBk0QgihFUCiApJSALZyH7zfjjTO4yF/K0v8sK/9/eBgZBzl3Pvc+85957ze4B21Mz7HhKJNHPmTDab/ejRo9ra2rt378bFxYGHLsnJyRUVFVqtdu7cueP5ROl0em9v740bN6qrq9va2oRCYXNzM5lMDggIcHFxcXBwyMzMbG1tZbPZra2tiYmJIAVce3t7Tk5OZWVlZWUl2FMCgfD48eOioiIulzs8PNzS0tLb2zt79mwsFgtSeOl0upCQkNLSUvD8nE6nazSalJSUtrY2UG8BAQGNjY1gsWw2WyAQ+Pv7P3ny5MaNG+3t7TY2Np6enhkZGcXFxTKZzMvLy83NLTU1taGhobm52cPDg8vl3rlzp6+v7969ewsWLPj444/H7Pq6ubmRyeQrV65UVFSw2eyBgYF58+YFBgZqNBoWi9Xe3l5QUKDRaA4cOMBgMMrKytLS0oD3l8FgpKam3rlzBxhbZ8yYIRKJWCzW06dPQQ+5qqqKy+W2trZiMJiysjJggR8YGEhKSmpubgbpC5lM5rNnz2bMmOHs7Hzt2rW7d++qVKoZM2Ywmcz79++r1WpfX9/a2tqsrKyenh4XFxcajXblypXS0lJwQsrl8sLCwqGhoZaWlry8vKqqKm9vbzPd2kuXLr18+RIYiM2/cP47bzlDUC6Xd3Z2WllZzZo1S6lUDgwMODs7V1RUFBQUpKengw6eXC6/ePFiYmLixA511uv1UqkU5J6lUqlGo1EsFkMQBJqRKBRKrVZ3dHSAbhKZTJZKpdbW1gQCYXh42Gg0grQdIGOLlZWVo6PjyMiIXC4HEhPwfaVSCS7bRCLR1tYWXH1MJpNMJnvx4oVYLHZzc6NQKEB3LJVKwdpBw3K8zTYYDMD2DkEQkAYDgbBYLNZqtaB3Z2aE8/DwcG9vr1ardXNzs7KyUqlUJBIJJPXR6XRCoVAoFIL3ilQqFdwx5HK5UCiUSCSurq52dnbgjYVYLO7o6LCzs3N1ddXpdFqt1sHBAYfDSSQSjUZjaWnp5OSkVCpByjV7e3srKyuxWGw0GkGeXktLS5lM1tfXJ5VK4UpQKpWgboFmEBwdNBpNoVCsra1fvHih1WpxOByVSlWr1c+fP9fr9fb29s7OzkQicbxOh1arHRgYGBwcJJFINBoNPAcFXTOJRILH493c3MA7RZlMJpPJjEajjY2NnZ2dVCpVqVQYDIZKpVpbW4NMyygUikAgkEgksVg8ODgIrg5isRjklIYgCDyDAJ0UhUIBQRA4GcRisVqttrS0tLOzUygU4EhRqVSNRiOTycDXbGxswOkEkiF/+umnERERMTExRqOxv7//m2++CQgIOHXq1HhHFjSLKBSKk5PTPx0fMQHzew0Gw8DAAJFIBE/nly9fjkKhdDpdT08PSAM5LUYFISD83xEIBCEhIWfOnNmwYQMajZbJZAcPHgwNDd22bdu7WN0EjJQcHh7eu3evu7v7okWLQK5HFAplMpk4HI6FhQWDwXgXI64QEKYgDg4OixYtSk5OFggEFAqFz+d7e3tPePoimAmIXiKRGB8f7+Tk9N5778GBisPh1Go1g8GYOtOpEBDeNVZWVpcuXaqvrxeJRGQyef369e7u7u9urs7EzFKAH5/CjIyMKJVKBwcHpNmM8K8CTok8CbyrG+PIyMjw8PBrz+UREBAmkHdlpQPZ0DEYzKxZs5DbLwLCuwBxSiIgTFeQR0oICNMVJHoREKYrSPQiIExXkOhFQJiuTF4Owf9uTCZTf39/XV0dBoOJjo6e5LUbDIbOzs6HDx8GBAT4+flN5no5HA6bzfbz84uKihpT/gLT1dVVW1vLYDCWLFmCjOGZEKZQ9A4NDXE4HD6f7+XltWrVKjBsq6Wlpa6uDkzsCA4OfsN5/5OPVqutra1NSkqiUqmTH71yuZzFYjGZzMTExEmLXoPBkJqa+urVKzs7u9u3bwcHB5uJXpPJxGQy8/LyYmJiQkJCJmcL/+uZQtGLw+FoNFp8fLyXlxeDwQDSBltb266urr6+vvDw8AkfLw3kDGQy+T96fEZGRrRa7XgTAFEoFB6P37BhQ3V1NZ/Pn9iNfBMcHBx27NjB4XAmU57c3d1dWFh47NgxMHfP/Ow2CwuL3bt3t7a26nS6/3fD85ug1+sVCoWNjc1UTlgxhRowBAKBTqfb2tqCmzCY3u3m5kYkEtesWePj4zPh9djR0ZGZmQlmw5mnpKTkzp07E7v2iWXyh8QMDg4KBALg/SUSiW/SGJ4WcQvo7e1NS0ubTC//WzCF7r0oFOrp06dLly51cnLKzs6OioqiUqkmk4nH40VGRo5XBJgxgBYDdmXAv+Dx+PFOa4FAcPHixdbWVjKZDAyyDg4O3d3dLBbrxYsXVCo1KirK398fjUY3NDRcvnyZRqMRCAQnJydfX9/q6ur79+8DHWRcXNzcuXPfZO/UanVJSUlTU1N4eHh7e3tNTY23t/fnn39OJBJra2sLCwuXL18eHR0tkUjS09OlUumuXbvc3Nz4fH5RUREWi124cGFhYaFEItm3bx+JRCopKamvr1+zZk10dDSBQAC2jZaWlu+++667u3v27Nk7duwAija9Xl9fXw/KBgQErFu3zmQygT/Xr19/8+ZNR0fHnTt3jqdfUqlU2dnZTU1NaDQ6LCwsIiICj8cbDAYulysUCisqKgYGBgICAqhU6phHp6enp6ioqKmpSa/XNzY2wnWlUqmysrKam5vRaHR4ePiaNWtAt0iv13O5XDD1n8FgbN682WAw5OTkQBCUkJBgaWlZWVlZXFwcExMTFhamUqny8/N7enpWrlzJ4XBaWlrCw8NXr17N4XDKyspoNNr+/fudnJxAtoTc3Nze3t45c+Zs3LiRTqeLRKJbt25JJJJVq1aVlJR0dXWtWLHis88+w2AwUqn0woULjx49srGxcXd39/Pza2trY7PZUqmUTqcnJCSYV1VNGlMrehsbG8PCwjw9PYuLi8vKyjZv3iyXywUCAZBxj4larc7Pzwe2VCAogSAI/uXgwYPjGYMGBgaGhobUavXQ0BCRSDQYDDweb9u2bbGxsd99911VVdW+ffsSEhKioqJevnypUChIJJJEIiEQCAUFBT/88MMff/zh6em5e/fun3/++cKFC+Yf2ABEIlFjY+OlS5f4fH5YWBiDwbh69SqRSIyLi1MoFMXFxR4eHigUanBw8NWrVw8ePNi8eTMYcJqTkyOXy2NjYz09PVksVkxMTFRUlI+Pj62t7bFjx1xcXMLCwsD1y2AwREZGikSiX3/9taamJiUlZebMmVlZWbdu3Tp06JCjo+PJkyc7OzvXrVtXXl7+6NGj/v5+LBar1+thZ9Br9Pf3JyYmWllZnThxQqlUHj58uK6u7ujRo8CtA0GQTCYbHh4er3h7e/uePXsiIiK+/fZbIMQGlqz+/v6vvvoKj8cfP35coVCAxR45coREIqWlpTGZzKNHj7q6um7fvn1oaCg6OprH44lEor179wIlWElJyZIlS8BBfPjwIZPJ5PP5oaGhJBLp66+/rqys9Pf39/X1TU5O1mg0586dq6+vT0xM3LdvX3x8/Pnz5w8dOpScnPzy5cuysrLq6urh4WEvLy+RSHTkyJG5c+cuWbJEIBBIpVJwbpBIpMLCwqysrN9//91kMp06dUomk02R6H1Ln/M7YsuWLQ8ePFAoFDt27FixYgXQR23cuNFMEbVazeFwcsYBCBDGRKvV/vjjj+vWrRsYGIAgSK/X79ixY+XKlXK5HIIglUp1+PDh0NBQkUgkEok++eSTEydOgII1NTVXr14dHByEIOjs2bNr1qzp6+sD/0pISPjwww/NbC2Px6PT6ZWVlRAEyWSy2NjY7du3QxA0MjISFBR09uxZ8LVbt24tXry4ubkZ/BkfHx8TEwN+z8nJ8fHxefLkCQRB7e3tfn5+TCYT2DzDwsJSUlLA17hcLo1GS0tLU6lUCxcuTEpKGhoaksvlSUlJPj4+Eonk+vXr7u7uNTU1RqNRo9GMKRw2Go2ZmZkeHh4gvQAEQeXl5R4eHmw2G4Kg0tJSX19feCPHJD4+HkiwIQgSCoWbNm06ceKEVqtNT0/38PBoa2sDXystLaXT6X/++adcLvf29j579qxOpxsaGrp+/fqdO3e0Wu358+dXrFgBJCpCodDPzy8zMxOUvXfvnqenJ5BU83i8gICAGzdugH/t3LkzOjpapVLFxMTs3btXKpUqFIqysrJ58+ZVVVVBEJScnBwYGAgOpUAg8PHxARVoNBqTkpIiIiLAkb18+bKPj09XV5dGo6mqqgK7MxWYQvdeiUQiEonmzp1LJBJjY2N37dp17969oaGhOXPmmCmFw+GCg4NfE50C7eBrsljzDA4ONjc3h4SEgLsoHo/39vZOSUlRKpWv3VeDgoLmz5/f0NBQWVlZU1MDLLZvvpvwpuJwOCDcQv3VITTz8Az6azg6jUaDLYdWVla2trZarRb1lxURroQ5c+aQyWSQZqWrq6u8vLyzsxONRkskEqAQRKFQFAqFTqcDu92YK9VoNDweD+h+wSc+Pj5KpbKzs/ODDz4YvS9jIhQK6+vrv/jiC1CB8BaCxVIoFHixvr6+wLVEpVJlMpmnp6elpaWtrW1cXBysJTLTr4a3gUQigU4EXFcCgeDFixctLS00Gu3YsWNoNBook+BdhssSiUQMBgONNew/ICAAi8Vu2bJl3759kZGRb9LOmhymUPSCZBnA7RQeHr548eLr16/PmDHj/fffN1NKqVSmpqY2NzcDKyfQfAI7NBaLPXny5BtOtgQqdlhMBdTkJpMJ9gbCVFRUnD59eu3atQkJCRQKhc1m/6OH4UA9i/rLFT461eh47U8UCgU/sQO2R7hjD184IAgafYpbWFjg8XgcDqdSqRwdHffv3w9SmYzmP6arBU1xKyur0eJiCwuLN3xuDJIbwFsObhew83H0YkGdgHwLRqMRrgdQFoIgDAZjpnJghzO8itF1BX7GxcWNqaeBr5hg18aM3qCgIDabnZycfPLkyYyMjLS0tLfTL084Uyt6aTQaXJu7d+/eunWryWTauXOnmVI4HC48PHzhwoVj/tfOzs78SqG//MZUKnXmzJnt7e2g/6zX6/v6+uh0OtzDAXEyMjJy+vTpRYsWHThwAFigQQqSN99NeI3gJ+wcB1ExXqnR5uHRZeGUCK9p6EUiEfBUMhgMvV7f1tb291du4IJlZlPxePycOXNyc3PVajX45NWrVxgMhsFgwOZnM8WpVCqBQKivr9+yZQuIVXDvxePxs2fPzsvLU6vV4AC9fPkSg8HAmbhaW1sjIyNHtwggCDKj3YWr9DUtM1idk5OTo6Mjl8uNjY39eysDrtjRhwNeLARBBoOhsbGRRqMdP3580aJFX375ZXd39xSJ3in0xujVq1c0Gg0+w/z8/Hx9fS0tLc28ZUWhUFgs1tfX93/GwYyl0cLCAovF8vl8IIVEo9F79uxpamqqqKhAoVC9vb1FRUWxsbH29vbAlt7Y2AgebhsMBoFAoNVq+Xx+WVnZ6GUCTbT53RztB4ZvnsCBWF5e/uzZs76+vsrKytdKwSfZ6JADxcEno1vOPT0933//fXh4+PLly+3s7KKjo2/evFlSUmI0Gvv6+n766SeFQoEa1RofD/A02NnZOSMjA4VCaTSay5cvBwUFLV26FHzB/BJsbW0/+uij27dvp6Wl9ff3P378uKOjAzQQli9f7urqmpmZCRabnJwcEhICEkHGxMSkpaVlZWVJpdLOzs7y8nKj0Whvb9/V1VVXVycSiSorK2Uy2egVwdELdwhHV5q1tfXWrVuLiorS09NVKpVEIrl27RqPx/t72dFJLbBY7PPnzwcHB/V6fXFxcXNzM7BJ0mi0tzOnvwvePofgxAKyY/D5fAKBALJ+AKc+DodbuXKlmSB8a9BotLW1dUNDQ25ubkdHh7e3t7+/v6enZ2pqKpvNLi4u3rx5c3x8vLW1tbW1tV6vr62tZbFYCoUiOjq6qKiIyWTKZLLVq1dXV1cLhcKFCxdmZ2dzOByFQiGVSn18fP4+LKyjo+PMmTMg7JctW1ZUVFRVVSUWi3U63eLFi319fQsKCnJycp49exYSEvLkyRORSBQYGMhisWpqaoD0FIPBXL16Va1WS6XSBQsW/PbbbwKBoLu729XVlUaj8Xg8DoeTl5f38OHDtWvXJiYmWltbW1hYBAcH6/X6mzdvpqSk1NbWhoaGCgSC7OxsjUbD5/PpdPqYL3sAjo6OYWFhbDY7KysrPz/fycnp3LlzFAqFy+X+8ssvIOtXYGAgnHXlNYKCgkZGRnJzc3NycvB4vKOj49OnT21tbZctWxYWFlZYWMhisXJzc11cXM6ePUuhUNBodHBwMBaLZbFY6enpPB4vMDCQTqe7uLhIpdKMjIyqqipPT0+pVNrT0zNz5kyJRAI2o7Ozc+nSpampqT09Pf39/c7Ozg0NDSUlJWq1WiaTbdq0yc3NLSsrKyUlpaSkZP78+SEhIVVVVUwmEyhjgUqur6+vt7fX2dl51qxZJBKpoaEhPz+/qamJSCTm5ORwudy6urpt27YFBwdPEdHiv312PkibNLq9pNPpgFn+tUvG6C6cWq02mUwTfk1RqVQajcbOzu5dnBxyuVyn09nb27/FwiEIGh4eRqPRZDL5nw5RhiBILpeD5GZjLhaDwZDJ5Nca4VqtVqPRjL4oGAwGiUQCFNP/dPsBIyMjCoXCwcHhDYf9jM5volAoVCqVg4PDW6/9XfBvj14EhOnLFOr3IiAg/COQ6EVAmK4g0YuAMF1BohcBYbqCRC8CwnQFiV4EhOkKEr0ICNMVJHoREKYrSPQiIExXkOhFQJiu/C83+D0LF1eJ+QAAAABJRU5ErkJggg==)\n",
        "\n"
      ],
      "metadata": {
        "id": "EYS6VJwlAQBt"
      }
    },
    {
      "cell_type": "code",
      "execution_count": null,
      "metadata": {
        "id": "iXhpGzAArS6s"
      },
      "outputs": [],
      "source": [
        "import pandas as pd\n",
        "import numpy as np\n",
        "train=pd.read_csv(\"/content/drive/MyDrive/train.csv\")"
      ]
    },
    {
      "cell_type": "markdown",
      "metadata": {
        "id": "M_NOlgIzJptN"
      },
      "source": [
        "**PREPROCESSING**"
      ]
    },
    {
      "cell_type": "code",
      "execution_count": null,
      "metadata": {
        "colab": {
          "base_uri": "https://localhost:8080/"
        },
        "id": "sEtP_3eVRzQn",
        "outputId": "b6bc602a-4b6c-402b-c5d7-dee1fad0c09a"
      },
      "outputs": [
        {
          "output_type": "stream",
          "name": "stdout",
          "text": [
            "[nltk_data] Downloading package punkt to /root/nltk_data...\n",
            "[nltk_data]   Unzipping tokenizers/punkt.zip.\n",
            "[nltk_data] Downloading package stopwords to /root/nltk_data...\n",
            "[nltk_data]   Unzipping corpora/stopwords.zip.\n"
          ]
        }
      ],
      "source": [
        "\n",
        "import nltk\n",
        "from nltk.corpus import stopwords\n",
        "import regex as re\n",
        "from nltk.stem import PorterStemmer\n",
        "from nltk.stem import LancasterStemmer\n",
        "from nltk.tokenize import sent_tokenize, word_tokenize\n",
        "\n",
        "porter = PorterStemmer()\n",
        "lancaster=LancasterStemmer()\n",
        "def stemSentence(sentence):\n",
        "    token_words=word_tokenize(sentence)\n",
        "    token_words\n",
        "    stem_sentence=[]\n",
        "    for word in token_words:\n",
        "        stem_sentence.append(porter.stem(word))\n",
        "        stem_sentence.append(\" \")\n",
        "    return \"\".join(stem_sentence)\n",
        "\n",
        "nltk.download('punkt')\n",
        "nltk.download('stopwords')\n",
        "stop_words = stopwords.words('english')\n",
        "other_words_to_take_out = ['school', 'students', 'people', 'would', 'could', 'many','coul','shoul','woul','stuent']\n",
        "stop_words.extend(other_words_to_take_out)\n",
        "\n",
        "def remove_stopwords(text):\n",
        "    return \" \".join([word for word in str(text).split() if word not in stop_words])"
      ]
    },
    {
      "cell_type": "code",
      "execution_count": null,
      "metadata": {
        "id": "DrXTJsH2cbSA"
      },
      "outputs": [],
      "source": [
        "def preprocess(x):\n",
        "  \n",
        "    x=x.str.lower()\n",
        "    x=x.apply(lambda x: re.sub('W*dw*','',x))\n",
        "    x=x.apply(lambda x: remove_stopwords(x))\n",
        "    x=x.apply(lambda x: x.split())\n",
        "    return x\n",
        "\n"
      ]
    },
    {
      "cell_type": "code",
      "execution_count": null,
      "metadata": {
        "colab": {
          "base_uri": "https://localhost:8080/",
          "height": 206
        },
        "id": "NdsZq-NJNYTg",
        "outputId": "f86a7607-c323-4ce5-a5a3-c509979b8c26"
      },
      "outputs": [
        {
          "output_type": "execute_result",
          "data": {
            "text/plain": [
              "                                      discourse_text discourse_type\n",
              "0  Modern humans today are always on their phone....           Lead\n",
              "1  They are some really bad consequences when stu...       Position\n",
              "2  Some certain areas in the United States ban ph...       Evidence\n",
              "3  When people have phones, they know about certa...       Evidence\n",
              "4  Driving is one of the way how to get around. P...          Claim"
            ],
            "text/html": [
              "\n",
              "  <div id=\"df-82088103-c416-4b04-b3b6-d2b6fb0d219b\">\n",
              "    <div class=\"colab-df-container\">\n",
              "      <div>\n",
              "<style scoped>\n",
              "    .dataframe tbody tr th:only-of-type {\n",
              "        vertical-align: middle;\n",
              "    }\n",
              "\n",
              "    .dataframe tbody tr th {\n",
              "        vertical-align: top;\n",
              "    }\n",
              "\n",
              "    .dataframe thead th {\n",
              "        text-align: right;\n",
              "    }\n",
              "</style>\n",
              "<table border=\"1\" class=\"dataframe\">\n",
              "  <thead>\n",
              "    <tr style=\"text-align: right;\">\n",
              "      <th></th>\n",
              "      <th>discourse_text</th>\n",
              "      <th>discourse_type</th>\n",
              "    </tr>\n",
              "  </thead>\n",
              "  <tbody>\n",
              "    <tr>\n",
              "      <th>0</th>\n",
              "      <td>Modern humans today are always on their phone....</td>\n",
              "      <td>Lead</td>\n",
              "    </tr>\n",
              "    <tr>\n",
              "      <th>1</th>\n",
              "      <td>They are some really bad consequences when stu...</td>\n",
              "      <td>Position</td>\n",
              "    </tr>\n",
              "    <tr>\n",
              "      <th>2</th>\n",
              "      <td>Some certain areas in the United States ban ph...</td>\n",
              "      <td>Evidence</td>\n",
              "    </tr>\n",
              "    <tr>\n",
              "      <th>3</th>\n",
              "      <td>When people have phones, they know about certa...</td>\n",
              "      <td>Evidence</td>\n",
              "    </tr>\n",
              "    <tr>\n",
              "      <th>4</th>\n",
              "      <td>Driving is one of the way how to get around. P...</td>\n",
              "      <td>Claim</td>\n",
              "    </tr>\n",
              "  </tbody>\n",
              "</table>\n",
              "</div>\n",
              "      <button class=\"colab-df-convert\" onclick=\"convertToInteractive('df-82088103-c416-4b04-b3b6-d2b6fb0d219b')\"\n",
              "              title=\"Convert this dataframe to an interactive table.\"\n",
              "              style=\"display:none;\">\n",
              "        \n",
              "  <svg xmlns=\"http://www.w3.org/2000/svg\" height=\"24px\"viewBox=\"0 0 24 24\"\n",
              "       width=\"24px\">\n",
              "    <path d=\"M0 0h24v24H0V0z\" fill=\"none\"/>\n",
              "    <path d=\"M18.56 5.44l.94 2.06.94-2.06 2.06-.94-2.06-.94-.94-2.06-.94 2.06-2.06.94zm-11 1L8.5 8.5l.94-2.06 2.06-.94-2.06-.94L8.5 2.5l-.94 2.06-2.06.94zm10 10l.94 2.06.94-2.06 2.06-.94-2.06-.94-.94-2.06-.94 2.06-2.06.94z\"/><path d=\"M17.41 7.96l-1.37-1.37c-.4-.4-.92-.59-1.43-.59-.52 0-1.04.2-1.43.59L10.3 9.45l-7.72 7.72c-.78.78-.78 2.05 0 2.83L4 21.41c.39.39.9.59 1.41.59.51 0 1.02-.2 1.41-.59l7.78-7.78 2.81-2.81c.8-.78.8-2.07 0-2.86zM5.41 20L4 18.59l7.72-7.72 1.47 1.35L5.41 20z\"/>\n",
              "  </svg>\n",
              "      </button>\n",
              "      \n",
              "  <style>\n",
              "    .colab-df-container {\n",
              "      display:flex;\n",
              "      flex-wrap:wrap;\n",
              "      gap: 12px;\n",
              "    }\n",
              "\n",
              "    .colab-df-convert {\n",
              "      background-color: #E8F0FE;\n",
              "      border: none;\n",
              "      border-radius: 50%;\n",
              "      cursor: pointer;\n",
              "      display: none;\n",
              "      fill: #1967D2;\n",
              "      height: 32px;\n",
              "      padding: 0 0 0 0;\n",
              "      width: 32px;\n",
              "    }\n",
              "\n",
              "    .colab-df-convert:hover {\n",
              "      background-color: #E2EBFA;\n",
              "      box-shadow: 0px 1px 2px rgba(60, 64, 67, 0.3), 0px 1px 3px 1px rgba(60, 64, 67, 0.15);\n",
              "      fill: #174EA6;\n",
              "    }\n",
              "\n",
              "    [theme=dark] .colab-df-convert {\n",
              "      background-color: #3B4455;\n",
              "      fill: #D2E3FC;\n",
              "    }\n",
              "\n",
              "    [theme=dark] .colab-df-convert:hover {\n",
              "      background-color: #434B5C;\n",
              "      box-shadow: 0px 1px 3px 1px rgba(0, 0, 0, 0.15);\n",
              "      filter: drop-shadow(0px 1px 2px rgba(0, 0, 0, 0.3));\n",
              "      fill: #FFFFFF;\n",
              "    }\n",
              "  </style>\n",
              "\n",
              "      <script>\n",
              "        const buttonEl =\n",
              "          document.querySelector('#df-82088103-c416-4b04-b3b6-d2b6fb0d219b button.colab-df-convert');\n",
              "        buttonEl.style.display =\n",
              "          google.colab.kernel.accessAllowed ? 'block' : 'none';\n",
              "\n",
              "        async function convertToInteractive(key) {\n",
              "          const element = document.querySelector('#df-82088103-c416-4b04-b3b6-d2b6fb0d219b');\n",
              "          const dataTable =\n",
              "            await google.colab.kernel.invokeFunction('convertToInteractive',\n",
              "                                                     [key], {});\n",
              "          if (!dataTable) return;\n",
              "\n",
              "          const docLinkHtml = 'Like what you see? Visit the ' +\n",
              "            '<a target=\"_blank\" href=https://colab.research.google.com/notebooks/data_table.ipynb>data table notebook</a>'\n",
              "            + ' to learn more about interactive tables.';\n",
              "          element.innerHTML = '';\n",
              "          dataTable['output_type'] = 'display_data';\n",
              "          await google.colab.output.renderOutput(dataTable, element);\n",
              "          const docLink = document.createElement('div');\n",
              "          docLink.innerHTML = docLinkHtml;\n",
              "          element.appendChild(docLink);\n",
              "        }\n",
              "      </script>\n",
              "    </div>\n",
              "  </div>\n",
              "  "
            ]
          },
          "metadata": {},
          "execution_count": 13
        }
      ],
      "source": [
        "data=train[[\"discourse_text\",\"discourse_type\"]]\n",
        "data.head()\n"
      ]
    },
    {
      "cell_type": "code",
      "execution_count": null,
      "metadata": {
        "id": "jmMaxrqnNmzT"
      },
      "outputs": [],
      "source": [
        "labels=['Lead', 'Position', 'Evidence', 'Claim', 'Concluding Statement','Counterclaim', 'Rebuttal']\n",
        "\n",
        "y=data['discourse_type'].apply(labels.index)\n",
        "y = pd.get_dummies(data['discourse_type'])\n"
      ]
    },
    {
      "cell_type": "code",
      "execution_count": null,
      "metadata": {
        "id": "PAjJ-7fqQQAt"
      },
      "outputs": [],
      "source": [
        "from sklearn.feature_extraction.text import CountVectorizer \n",
        "\n",
        "text=preprocess(data['discourse_text'])\n",
        "\n",
        "for i in range(len(text)):\n",
        "  text[i]=' '.join(text[i])\n",
        "  text[i]=stemSentence(text[i])\n",
        "\n",
        "sentences_train =text.values\n",
        "\n"
      ]
    },
    {
      "cell_type": "code",
      "source": [
        "vectorizer = CountVectorizer(max_df=0.50,min_df=1,max_features=150)\n",
        "data_vec = vectorizer.fit_transform(sentences_train)"
      ],
      "metadata": {
        "id": "2HD2IcIGu3x3"
      },
      "execution_count": null,
      "outputs": []
    },
    {
      "cell_type": "code",
      "execution_count": null,
      "metadata": {
        "id": "Ml7HE77ARFmg"
      },
      "outputs": [],
      "source": [
        "vectorizer.vocabulary_"
      ]
    },
    {
      "cell_type": "code",
      "source": [
        "print(stop_words)"
      ],
      "metadata": {
        "id": "kRw8sVYhm4iA"
      },
      "execution_count": null,
      "outputs": []
    },
    {
      "cell_type": "code",
      "execution_count": null,
      "metadata": {
        "id": "0Ecbu862SXUP"
      },
      "outputs": [],
      "source": [
        "from yellowbrick.text import FreqDistVisualizer\n",
        "features   = vectorizer.get_feature_names()\n",
        "visualizer = FreqDistVisualizer(features=features, size=(800, 1000))\n",
        "visualizer.fit(data_vec)\n",
        "visualizer.finalize()"
      ]
    },
    {
      "cell_type": "code",
      "execution_count": null,
      "metadata": {
        "id": "W3D9wL0ea3xo"
      },
      "outputs": [],
      "source": [
        "from sklearn.feature_extraction.text import TfidfTransformer\n",
        "import scipy.sparse\n",
        "tfidf = TfidfTransformer()\n",
        "df_idf= tfidf.fit_transform(data_vec)\n",
        "df_idf=pd.DataFrame.sparse.from_spmatrix(df_idf)\n"
      ]
    },
    {
      "cell_type": "code",
      "execution_count": null,
      "metadata": {
        "id": "JaiLNBa53bsY"
      },
      "outputs": [],
      "source": [
        "df_idf.head()"
      ]
    },
    {
      "cell_type": "code",
      "execution_count": null,
      "metadata": {
        "id": "p1EO6EArdT_L"
      },
      "outputs": [],
      "source": [
        "df= pd.DataFrame(tfidf.idf_, index=vectorizer.get_feature_names(),columns=[\"idf_weights\"]) \n",
        "# sort ascending \n",
        "df.sort_values(by=['idf_weights'])"
      ]
    },
    {
      "cell_type": "code",
      "execution_count": null,
      "metadata": {
        "id": "5lfn5ui-4vOr"
      },
      "outputs": [],
      "source": [
        "from sklearn.model_selection import train_test_split\n",
        "\n",
        "X_train, X_test, y_train, y_test = train_test_split(df_idf, y, test_size=0.2, random_state=42,stratify=y )\n",
        "X_train.shape\n",
        "y_train.value_counts()"
      ]
    },
    {
      "cell_type": "code",
      "source": [
        "from keras.models import Sequential\n",
        "from keras.layers import Dense, Activation, Dropout,LSTM\n",
        "from keras.regularizers import l2\n",
        "def create_deep_model(factor, rate):\n",
        "    model = Sequential()     \n",
        "    model.add(Dense(units=1024,kernel_regularizer=l2(factor), \n",
        "      activation='relu')), Dropout(rate),\n",
        "    model.add(Dense(units=1024,kernel_regularizer=l2(factor),\n",
        "      activation='relu')), Dropout(rate),\n",
        "    model.add(Dense(units=512,kernel_regularizer=l2(factor),\n",
        "      activation='relu')), Dropout(rate),\n",
        "    model.add(Dense(units=256,kernel_regularizer=l2(factor),\n",
        "      activation='relu')), Dropout(rate),\n",
        "    #Output layer\n",
        "    model.add(Dense(units=7, activation='softmax'))\n",
        "    return model"
      ],
      "metadata": {
        "id": "ADcBPQRGgxrp"
      },
      "execution_count": null,
      "outputs": []
    },
    {
      "cell_type": "code",
      "source": [
        "model=create_deep_model(0.0001,0.25)\n",
        "model.compile(loss='categorical_crossentropy', optimizer='adam',  metrics=['acc']) "
      ],
      "metadata": {
        "id": "_gk3CJLZhHki"
      },
      "execution_count": null,
      "outputs": []
    },
    {
      "cell_type": "code",
      "source": [
        "history=model.fit(x=X_train, y=y_train, batch_size=256, epochs=20, validation_data=(X_test, y_test), verbose=1)"
      ],
      "metadata": {
        "colab": {
          "base_uri": "https://localhost:8080/"
        },
        "id": "2zFWwMyDhSd2",
        "outputId": "949be74e-bada-4f3b-a3a9-7350b2c782d2"
      },
      "execution_count": null,
      "outputs": [
        {
          "output_type": "stream",
          "name": "stdout",
          "text": [
            "Epoch 1/20\n",
            "451/451 [==============================] - 8s 10ms/step - loss: 1.3300 - acc: 0.5670 - val_loss: 1.2216 - val_acc: 0.5983\n",
            "Epoch 2/20\n",
            "451/451 [==============================] - 4s 9ms/step - loss: 1.1943 - acc: 0.6054 - val_loss: 1.2022 - val_acc: 0.6005\n",
            "Epoch 3/20\n",
            "451/451 [==============================] - 4s 9ms/step - loss: 1.1549 - acc: 0.6180 - val_loss: 1.1841 - val_acc: 0.6121\n",
            "Epoch 4/20\n",
            "451/451 [==============================] - 4s 9ms/step - loss: 1.1250 - acc: 0.6302 - val_loss: 1.1810 - val_acc: 0.6113\n",
            "Epoch 5/20\n",
            "451/451 [==============================] - 4s 9ms/step - loss: 1.1000 - acc: 0.6409 - val_loss: 1.1948 - val_acc: 0.6065\n",
            "Epoch 6/20\n",
            "451/451 [==============================] - 4s 9ms/step - loss: 1.0745 - acc: 0.6510 - val_loss: 1.2141 - val_acc: 0.6054\n",
            "Epoch 7/20\n",
            "451/451 [==============================] - 4s 9ms/step - loss: 1.0503 - acc: 0.6618 - val_loss: 1.2288 - val_acc: 0.6048\n",
            "Epoch 8/20\n",
            "451/451 [==============================] - 4s 9ms/step - loss: 1.0224 - acc: 0.6749 - val_loss: 1.2658 - val_acc: 0.5974\n",
            "Epoch 9/20\n",
            "451/451 [==============================] - 4s 9ms/step - loss: 0.9983 - acc: 0.6858 - val_loss: 1.2897 - val_acc: 0.5956\n",
            "Epoch 10/20\n",
            "451/451 [==============================] - 4s 9ms/step - loss: 0.9676 - acc: 0.7005 - val_loss: 1.3277 - val_acc: 0.5923\n",
            "Epoch 11/20\n",
            "451/451 [==============================] - 4s 9ms/step - loss: 0.9394 - acc: 0.7131 - val_loss: 1.4059 - val_acc: 0.5668\n",
            "Epoch 12/20\n",
            "451/451 [==============================] - 4s 9ms/step - loss: 0.9108 - acc: 0.7255 - val_loss: 1.4203 - val_acc: 0.5860\n",
            "Epoch 13/20\n",
            "451/451 [==============================] - 6s 12ms/step - loss: 0.8820 - acc: 0.7381 - val_loss: 1.4595 - val_acc: 0.5833\n",
            "Epoch 14/20\n",
            "451/451 [==============================] - 4s 9ms/step - loss: 0.8522 - acc: 0.7523 - val_loss: 1.5168 - val_acc: 0.5757\n",
            "Epoch 15/20\n",
            "451/451 [==============================] - 4s 9ms/step - loss: 0.8210 - acc: 0.7657 - val_loss: 1.5821 - val_acc: 0.5772\n",
            "Epoch 16/20\n",
            "451/451 [==============================] - 4s 9ms/step - loss: 0.7982 - acc: 0.7758 - val_loss: 1.6623 - val_acc: 0.5699\n",
            "Epoch 17/20\n",
            "451/451 [==============================] - 4s 9ms/step - loss: 0.7758 - acc: 0.7868 - val_loss: 1.7205 - val_acc: 0.5732\n",
            "Epoch 18/20\n",
            "451/451 [==============================] - 4s 9ms/step - loss: 0.7536 - acc: 0.7954 - val_loss: 1.8000 - val_acc: 0.5690\n",
            "Epoch 19/20\n",
            "451/451 [==============================] - 4s 9ms/step - loss: 0.7340 - acc: 0.8048 - val_loss: 1.8576 - val_acc: 0.5650\n",
            "Epoch 20/20\n",
            "451/451 [==============================] - 4s 9ms/step - loss: 0.7142 - acc: 0.8138 - val_loss: 1.8852 - val_acc: 0.5668\n"
          ]
        }
      ]
    },
    {
      "cell_type": "code",
      "source": [
        "score=model.evaluate(X_test,y_test)"
      ],
      "metadata": {
        "colab": {
          "base_uri": "https://localhost:8080/"
        },
        "id": "nxg2slcth-fm",
        "outputId": "8a93b8ce-8c8e-48fc-e1a6-dde702b90aa0"
      },
      "execution_count": null,
      "outputs": [
        {
          "output_type": "stream",
          "name": "stdout",
          "text": [
            "902/902 [==============================] - 6s 7ms/step - loss: 1.8852 - acc: 0.5668\n"
          ]
        }
      ]
    },
    {
      "cell_type": "code",
      "source": [
        "plt.plot(history.history['acc']) \n",
        "plt.plot(history.history['val_acc']) \n",
        "plt.title('model accuracy') \n",
        "plt.ylabel('accuracy') \n",
        "plt.xlabel('epoch') \n",
        "plt.legend(['train','test'], loc='upper left')\n",
        "plt.show() \n",
        "plt.plot(history.history['loss']) \n",
        "plt.plot(history.history['val_loss']) \n",
        "plt.title('model loss') \n",
        "plt.ylabel('loss') \n",
        "plt.xlabel('epoch') \n",
        "plt.legend(['train','test'], loc='upper left')\n",
        "plt.show()"
      ],
      "metadata": {
        "colab": {
          "base_uri": "https://localhost:8080/",
          "height": 735
        },
        "id": "SzDSdx6eiH5I",
        "outputId": "5727e475-ace1-4fb3-e5bb-7940e70d1a9b"
      },
      "execution_count": null,
      "outputs": [
        {
          "output_type": "display_data",
          "data": {
            "text/plain": [
              "<Figure size 576x396 with 1 Axes>"
            ],
            "image/png": "[encoded data removed]"
          },
          "metadata": {}
        },
        {
          "output_type": "display_data",
          "data": {
            "text/plain": [
              "<Figure size 576x396 with 1 Axes>"
            ],
            "image/png": "[encoded data removed]"
          },
          "metadata": {}
        }
      ]
    },
    {
      "cell_type": "code",
      "source": [
        "y_test=data['discourse_type'].apply(labels.index)\n",
        "y_test=y_test[:28859]\n",
        "y_test.to_numpy()"
      ],
      "metadata": {
        "colab": {
          "base_uri": "https://localhost:8080/"
        },
        "id": "TIX6ORdtmIuQ",
        "outputId": "48da1cf1-8e1e-4f39-ab77-f2fa4680fc86"
      },
      "execution_count": null,
      "outputs": [
        {
          "output_type": "execute_result",
          "data": {
            "text/plain": [
              "array([4, 2, 1, ..., 1, 2, 0])"
            ]
          },
          "metadata": {},
          "execution_count": 30
        }
      ]
    },
    {
      "cell_type": "code",
      "source": [
        "y_pred = np.argmax(model.predict(X_test), axis=-1)\n",
        "print(y_pred)\n",
        "from sklearn.metrics import classification_report\n",
        "print(classification_report(y_test, y_pred, target_names=labels))"
      ],
      "metadata": {
        "colab": {
          "base_uri": "https://localhost:8080/"
        },
        "id": "CBzDdwS8jD45",
        "outputId": "c8766567-77ca-443e-fd0f-8f58d554fe11"
      },
      "execution_count": null,
      "outputs": [
        {
          "output_type": "stream",
          "name": "stdout",
          "text": [
            "[3 0 3 ... 0 1 0]\n",
            "                      precision    recall  f1-score   support\n",
            "\n",
            "               Claim       0.35      0.41      0.38      9970\n",
            "            Evidence       0.32      0.07      0.11      9115\n",
            "            Position       0.11      0.03      0.04      3017\n",
            "Concluding Statement       0.09      0.32      0.14      2646\n",
            "                Lead       0.08      0.05      0.06      2143\n",
            "        Counterclaim       0.04      0.13      0.07      1094\n",
            "            Rebuttal       0.03      0.01      0.02       874\n",
            "\n",
            "            accuracy                           0.21     28859\n",
            "           macro avg       0.15      0.15      0.12     28859\n",
            "        weighted avg       0.25      0.21      0.19     28859\n",
            "\n"
          ]
        }
      ]
    },
    {
      "cell_type": "code",
      "source": [
        "y_train.shape"
      ],
      "metadata": {
        "colab": {
          "base_uri": "https://localhost:8080/"
        },
        "id": "JLuusOWgwL54",
        "outputId": "feb8f530-069a-4514-fc46-56c9d0225719"
      },
      "execution_count": null,
      "outputs": [
        {
          "output_type": "execute_result",
          "data": {
            "text/plain": [
              "(115434, 7)"
            ]
          },
          "metadata": {},
          "execution_count": 30
        }
      ]
    },
    {
      "cell_type": "markdown",
      "source": [
        "**Naive Bayes**"
      ],
      "metadata": {
        "id": "dFrxCv8oylb9"
      }
    },
    {
      "cell_type": "code",
      "source": [
        "from sklearn.naive_bayes import MultinomialNB\n",
        "from sklearn.metrics import accuracy_score\n",
        "\n",
        "y_naive=data['discourse_type'].apply(labels.index)\n",
        "y_naive=y_naive[:115434]\n",
        "model = MultinomialNB()\n",
        "model.fit(X_train, y_naive)"
      ],
      "metadata": {
        "colab": {
          "base_uri": "https://localhost:8080/"
        },
        "id": "VaRHru6nqB43",
        "outputId": "01789ea0-a8dd-4313-90bd-ec8b05e839ae"
      },
      "execution_count": null,
      "outputs": [
        {
          "output_type": "execute_result",
          "data": {
            "text/plain": [
              "MultinomialNB()"
            ]
          },
          "metadata": {},
          "execution_count": 31
        }
      ]
    },
    {
      "cell_type": "code",
      "source": [
        "y_test.shape"
      ],
      "metadata": {
        "colab": {
          "base_uri": "https://localhost:8080/"
        },
        "id": "LZr9UcpYweoH",
        "outputId": "f534169c-3281-4cca-c5ec-0741e0228c42"
      },
      "execution_count": null,
      "outputs": [
        {
          "output_type": "execute_result",
          "data": {
            "text/plain": [
              "(28859,)"
            ]
          },
          "metadata": {},
          "execution_count": 32
        }
      ]
    },
    {
      "cell_type": "code",
      "source": [
        "predicted = model.predict(X_test)\n",
        "y_test=data['discourse_type'].apply(labels.index)\n",
        "y_test=y_test[:28859]\n",
        "print(\"Accuracy:\", accuracy_score(y_test, predicted))"
      ],
      "metadata": {
        "colab": {
          "base_uri": "https://localhost:8080/"
        },
        "id": "fFxM1kO9qMv1",
        "outputId": "f6f82619-4634-4b19-92c4-120462054887"
      },
      "execution_count": null,
      "outputs": [
        {
          "output_type": "stream",
          "name": "stdout",
          "text": [
            "Accuracy: 0.343081880869053\n"
          ]
        }
      ]
    },
    {
      "cell_type": "code",
      "source": [
        "df_idf.head()"
      ],
      "metadata": {
        "colab": {
          "base_uri": "https://localhost:8080/",
          "height": 235
        },
        "id": "ai9DHlJ52HF6",
        "outputId": "6741efb6-34c5-417d-fd65-36317b10574c"
      },
      "execution_count": null,
      "outputs": [
        {
          "output_type": "execute_result",
          "data": {
            "text/plain": [
              "   0    1    2    3    4         5    6    7         8    9    ...  140  141  \\\n",
              "0  0.0  0.0  0.0  0.0  0.0  0.597631  0.0  0.0  0.000000  0.0  ...  0.0  0.0   \n",
              "1  0.0  0.0  0.0  0.0  0.0  0.000000  0.0  0.0  0.000000  0.0  ...  0.0  0.0   \n",
              "2  0.0  0.0  0.0  0.0  0.0  0.000000  0.0  0.0  0.000000  0.0  ...  0.0  0.0   \n",
              "3  0.0  0.0  0.0  0.0  0.0  0.241934  0.0  0.0  0.000000  0.0  ...  0.0  0.0   \n",
              "4  0.0  0.0  0.0  0.0  0.0  0.361628  0.0  0.0  0.361251  0.0  ...  0.0  0.0   \n",
              "\n",
              "   142       143       144  145  146  147  148  149  \n",
              "0  0.0  0.000000  0.000000  0.0  0.0  0.0  0.0  0.0  \n",
              "1  0.0  0.000000  0.000000  0.0  0.0  0.0  0.0  0.0  \n",
              "2  0.0  0.000000  0.000000  0.0  0.0  0.0  0.0  0.0  \n",
              "3  0.0  0.190297  0.187553  0.0  0.0  0.0  0.0  0.0  \n",
              "4  0.0  0.000000  0.280342  0.0  0.0  0.0  0.0  0.0  \n",
              "\n",
              "[5 rows x 150 columns]"
            ],
            "text/html": [
              "\n",
              "  <div id=\"df-d00b1157-72f2-43f1-b3ec-4cc5807eb86f\">\n",
              "    <div class=\"colab-df-container\">\n",
              "      <div>\n",
              "<style scoped>\n",
              "    .dataframe tbody tr th:only-of-type {\n",
              "        vertical-align: middle;\n",
              "    }\n",
              "\n",
              "    .dataframe tbody tr th {\n",
              "        vertical-align: top;\n",
              "    }\n",
              "\n",
              "    .dataframe thead th {\n",
              "        text-align: right;\n",
              "    }\n",
              "</style>\n",
              "<table border=\"1\" class=\"dataframe\">\n",
              "  <thead>\n",
              "    <tr style=\"text-align: right;\">\n",
              "      <th></th>\n",
              "      <th>0</th>\n",
              "      <th>1</th>\n",
              "      <th>2</th>\n",
              "      <th>3</th>\n",
              "      <th>4</th>\n",
              "      <th>5</th>\n",
              "      <th>6</th>\n",
              "      <th>7</th>\n",
              "      <th>8</th>\n",
              "      <th>9</th>\n",
              "      <th>...</th>\n",
              "      <th>140</th>\n",
              "      <th>141</th>\n",
              "      <th>142</th>\n",
              "      <th>143</th>\n",
              "      <th>144</th>\n",
              "      <th>145</th>\n",
              "      <th>146</th>\n",
              "      <th>147</th>\n",
              "      <th>148</th>\n",
              "      <th>149</th>\n",
              "    </tr>\n",
              "  </thead>\n",
              "  <tbody>\n",
              "    <tr>\n",
              "      <th>0</th>\n",
              "      <td>0.0</td>\n",
              "      <td>0.0</td>\n",
              "      <td>0.0</td>\n",
              "      <td>0.0</td>\n",
              "      <td>0.0</td>\n",
              "      <td>0.597631</td>\n",
              "      <td>0.0</td>\n",
              "      <td>0.0</td>\n",
              "      <td>0.000000</td>\n",
              "      <td>0.0</td>\n",
              "      <td>...</td>\n",
              "      <td>0.0</td>\n",
              "      <td>0.0</td>\n",
              "      <td>0.0</td>\n",
              "      <td>0.000000</td>\n",
              "      <td>0.000000</td>\n",
              "      <td>0.0</td>\n",
              "      <td>0.0</td>\n",
              "      <td>0.0</td>\n",
              "      <td>0.0</td>\n",
              "      <td>0.0</td>\n",
              "    </tr>\n",
              "    <tr>\n",
              "      <th>1</th>\n",
              "      <td>0.0</td>\n",
              "      <td>0.0</td>\n",
              "      <td>0.0</td>\n",
              "      <td>0.0</td>\n",
              "      <td>0.0</td>\n",
              "      <td>0.000000</td>\n",
              "      <td>0.0</td>\n",
              "      <td>0.0</td>\n",
              "      <td>0.000000</td>\n",
              "      <td>0.0</td>\n",
              "      <td>...</td>\n",
              "      <td>0.0</td>\n",
              "      <td>0.0</td>\n",
              "      <td>0.0</td>\n",
              "      <td>0.000000</td>\n",
              "      <td>0.000000</td>\n",
              "      <td>0.0</td>\n",
              "      <td>0.0</td>\n",
              "      <td>0.0</td>\n",
              "      <td>0.0</td>\n",
              "      <td>0.0</td>\n",
              "    </tr>\n",
              "    <tr>\n",
              "      <th>2</th>\n",
              "      <td>0.0</td>\n",
              "      <td>0.0</td>\n",
              "      <td>0.0</td>\n",
              "      <td>0.0</td>\n",
              "      <td>0.0</td>\n",
              "      <td>0.000000</td>\n",
              "      <td>0.0</td>\n",
              "      <td>0.0</td>\n",
              "      <td>0.000000</td>\n",
              "      <td>0.0</td>\n",
              "      <td>...</td>\n",
              "      <td>0.0</td>\n",
              "      <td>0.0</td>\n",
              "      <td>0.0</td>\n",
              "      <td>0.000000</td>\n",
              "      <td>0.000000</td>\n",
              "      <td>0.0</td>\n",
              "      <td>0.0</td>\n",
              "      <td>0.0</td>\n",
              "      <td>0.0</td>\n",
              "      <td>0.0</td>\n",
              "    </tr>\n",
              "    <tr>\n",
              "      <th>3</th>\n",
              "      <td>0.0</td>\n",
              "      <td>0.0</td>\n",
              "      <td>0.0</td>\n",
              "      <td>0.0</td>\n",
              "      <td>0.0</td>\n",
              "      <td>0.241934</td>\n",
              "      <td>0.0</td>\n",
              "      <td>0.0</td>\n",
              "      <td>0.000000</td>\n",
              "      <td>0.0</td>\n",
              "      <td>...</td>\n",
              "      <td>0.0</td>\n",
              "      <td>0.0</td>\n",
              "      <td>0.0</td>\n",
              "      <td>0.190297</td>\n",
              "      <td>0.187553</td>\n",
              "      <td>0.0</td>\n",
              "      <td>0.0</td>\n",
              "      <td>0.0</td>\n",
              "      <td>0.0</td>\n",
              "      <td>0.0</td>\n",
              "    </tr>\n",
              "    <tr>\n",
              "      <th>4</th>\n",
              "      <td>0.0</td>\n",
              "      <td>0.0</td>\n",
              "      <td>0.0</td>\n",
              "      <td>0.0</td>\n",
              "      <td>0.0</td>\n",
              "      <td>0.361628</td>\n",
              "      <td>0.0</td>\n",
              "      <td>0.0</td>\n",
              "      <td>0.361251</td>\n",
              "      <td>0.0</td>\n",
              "      <td>...</td>\n",
              "      <td>0.0</td>\n",
              "      <td>0.0</td>\n",
              "      <td>0.0</td>\n",
              "      <td>0.000000</td>\n",
              "      <td>0.280342</td>\n",
              "      <td>0.0</td>\n",
              "      <td>0.0</td>\n",
              "      <td>0.0</td>\n",
              "      <td>0.0</td>\n",
              "      <td>0.0</td>\n",
              "    </tr>\n",
              "  </tbody>\n",
              "</table>\n",
              "<p>5 rows × 150 columns</p>\n",
              "</div>\n",
              "      <button class=\"colab-df-convert\" onclick=\"convertToInteractive('df-d00b1157-72f2-43f1-b3ec-4cc5807eb86f')\"\n",
              "              title=\"Convert this dataframe to an interactive table.\"\n",
              "              style=\"display:none;\">\n",
              "        \n",
              "  <svg xmlns=\"http://www.w3.org/2000/svg\" height=\"24px\"viewBox=\"0 0 24 24\"\n",
              "       width=\"24px\">\n",
              "    <path d=\"M0 0h24v24H0V0z\" fill=\"none\"/>\n",
              "    <path d=\"M18.56 5.44l.94 2.06.94-2.06 2.06-.94-2.06-.94-.94-2.06-.94 2.06-2.06.94zm-11 1L8.5 8.5l.94-2.06 2.06-.94-2.06-.94L8.5 2.5l-.94 2.06-2.06.94zm10 10l.94 2.06.94-2.06 2.06-.94-2.06-.94-.94-2.06-.94 2.06-2.06.94z\"/><path d=\"M17.41 7.96l-1.37-1.37c-.4-.4-.92-.59-1.43-.59-.52 0-1.04.2-1.43.59L10.3 9.45l-7.72 7.72c-.78.78-.78 2.05 0 2.83L4 21.41c.39.39.9.59 1.41.59.51 0 1.02-.2 1.41-.59l7.78-7.78 2.81-2.81c.8-.78.8-2.07 0-2.86zM5.41 20L4 18.59l7.72-7.72 1.47 1.35L5.41 20z\"/>\n",
              "  </svg>\n",
              "      </button>\n",
              "      \n",
              "  <style>\n",
              "    .colab-df-container {\n",
              "      display:flex;\n",
              "      flex-wrap:wrap;\n",
              "      gap: 12px;\n",
              "    }\n",
              "\n",
              "    .colab-df-convert {\n",
              "      background-color: #E8F0FE;\n",
              "      border: none;\n",
              "      border-radius: 50%;\n",
              "      cursor: pointer;\n",
              "      display: none;\n",
              "      fill: #1967D2;\n",
              "      height: 32px;\n",
              "      padding: 0 0 0 0;\n",
              "      width: 32px;\n",
              "    }\n",
              "\n",
              "    .colab-df-convert:hover {\n",
              "      background-color: #E2EBFA;\n",
              "      box-shadow: 0px 1px 2px rgba(60, 64, 67, 0.3), 0px 1px 3px 1px rgba(60, 64, 67, 0.15);\n",
              "      fill: #174EA6;\n",
              "    }\n",
              "\n",
              "    [theme=dark] .colab-df-convert {\n",
              "      background-color: #3B4455;\n",
              "      fill: #D2E3FC;\n",
              "    }\n",
              "\n",
              "    [theme=dark] .colab-df-convert:hover {\n",
              "      background-color: #434B5C;\n",
              "      box-shadow: 0px 1px 3px 1px rgba(0, 0, 0, 0.15);\n",
              "      filter: drop-shadow(0px 1px 2px rgba(0, 0, 0, 0.3));\n",
              "      fill: #FFFFFF;\n",
              "    }\n",
              "  </style>\n",
              "\n",
              "      <script>\n",
              "        const buttonEl =\n",
              "          document.querySelector('#df-d00b1157-72f2-43f1-b3ec-4cc5807eb86f button.colab-df-convert');\n",
              "        buttonEl.style.display =\n",
              "          google.colab.kernel.accessAllowed ? 'block' : 'none';\n",
              "\n",
              "        async function convertToInteractive(key) {\n",
              "          const element = document.querySelector('#df-d00b1157-72f2-43f1-b3ec-4cc5807eb86f');\n",
              "          const dataTable =\n",
              "            await google.colab.kernel.invokeFunction('convertToInteractive',\n",
              "                                                     [key], {});\n",
              "          if (!dataTable) return;\n",
              "\n",
              "          const docLinkHtml = 'Like what you see? Visit the ' +\n",
              "            '<a target=\"_blank\" href=https://colab.research.google.com/notebooks/data_table.ipynb>data table notebook</a>'\n",
              "            + ' to learn more about interactive tables.';\n",
              "          element.innerHTML = '';\n",
              "          dataTable['output_type'] = 'display_data';\n",
              "          await google.colab.output.renderOutput(dataTable, element);\n",
              "          const docLink = document.createElement('div');\n",
              "          docLink.innerHTML = docLinkHtml;\n",
              "          element.appendChild(docLink);\n",
              "        }\n",
              "      </script>\n",
              "    </div>\n",
              "  </div>\n",
              "  "
            ]
          },
          "metadata": {},
          "execution_count": 34
        }
      ]
    }
  ],
  "metadata": {
    "accelerator": "GPU",
    "colab": {
      "collapsed_sections": [],
      "name": "TFIDF.ipynb",
      "provenance": [],
      "mount_file_id": "1SCtBCAycPZtEsft7nYo5UcLvoz6GROar",
      "authorship_tag": "ABX9TyPz+CJH6MlwsaLXFtAF9BVq",
      "include_colab_link": true
    },
    "kernelspec": {
      "display_name": "Python 3",
      "name": "python3"
    },
    "language_info": {
      "name": "python"
    }
  },
  "nbformat": 4,
  "nbformat_minor": 0
}